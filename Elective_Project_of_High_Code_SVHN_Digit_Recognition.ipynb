{
  "cells": [
    {
      "cell_type": "markdown",
      "metadata": {
        "id": "view-in-github",
        "colab_type": "text"
      },
      "source": [
        "<a href=\"https://colab.research.google.com/github/Narcissa18/CreateAccountFormAutomation/blob/master/Elective_Project_of_High_Code_SVHN_Digit_Recognition.ipynb\" target=\"_parent\"><img src=\"https://colab.research.google.com/assets/colab-badge.svg\" alt=\"Open In Colab\"/></a>"
      ]
    },
    {
      "cell_type": "markdown",
      "metadata": {
        "id": "Q91KqmCRu64D"
      },
      "source": [
        "# **Deep Learning Project: Street View Housing Number Digit Recognition**\n",
        "\n",
        "# **Marks: 60**\n",
        "\n",
        "--------------\n",
        "## **Context**\n",
        "--------------\n",
        "\n",
        "One of the most interesting tasks in deep learning is to recognize objects in natural scenes. The ability to process visual information using machine learning algorithms can be very useful as demonstrated in various applications.\n",
        "\n",
        "The SVHN dataset contains over 600,000 labeled digits cropped from street-level photos. It is one of the most popular image recognition datasets. It has been used in neural networks created by Google to improve the map quality by automatically transcribing the address numbers from a patch of pixels. The transcribed number with a known street address helps pinpoint the location of the building it represents.\n",
        "\n",
        "----------------\n",
        "## **Objective**\n",
        "----------------\n",
        "\n",
        "Our objective is to predict the number depicted inside the image by using Artificial or Fully Connected Feed Forward Neural Networks and Convolutional Neural Networks. We will go through various models of each and finally select the one that is giving us the best performance.\n",
        "\n",
        "-------------\n",
        "## **Dataset**\n",
        "-------------\n",
        "Here, we will use a subset of the original data to save some computation time. The dataset is provided as a .h5 file. The basic preprocessing steps have been applied on the dataset."
      ]
    },
    {
      "cell_type": "markdown",
      "metadata": {
        "id": "8z2Z7-OAs8QG"
      },
      "source": [
        "## **Mount the drive**\n",
        "\n",
        "Let us start by mounting the Google drive. You can run the below cell to mount the Google drive."
      ]
    },
    {
      "cell_type": "code",
      "execution_count": 2,
      "metadata": {
        "id": "03lDyQUuef7z",
        "colab": {
          "base_uri": "https://localhost:8080/"
        },
        "outputId": "9525dbd9-5603-415b-f02e-36da40b1db54"
      },
      "outputs": [
        {
          "output_type": "stream",
          "name": "stdout",
          "text": [
            "Mounted at /content/drive\n"
          ]
        }
      ],
      "source": [
        "from google.colab import drive\n",
        "drive.mount('/content/drive')"
      ]
    },
    {
      "cell_type": "markdown",
      "metadata": {
        "id": "C8U3DUa3eNsT"
      },
      "source": [
        "## **Importing the necessary libraries**"
      ]
    },
    {
      "cell_type": "code",
      "execution_count": 3,
      "metadata": {
        "id": "-dVzeuF3eQx1"
      },
      "outputs": [],
      "source": [
        "import numpy as np\n",
        "\n",
        "import pandas as pd\n",
        "\n",
        "import tensorflow as tf\n",
        "\n",
        "import matplotlib.pyplot as plt\n",
        "\n",
        "import seaborn as sns"
      ]
    },
    {
      "cell_type": "code",
      "source": [
        "!pip install h5py"
      ],
      "metadata": {
        "colab": {
          "base_uri": "https://localhost:8080/"
        },
        "id": "IIuA1aldjYwX",
        "outputId": "d4ae5401-69d3-4471-fcd1-e0b594867f28"
      },
      "execution_count": 4,
      "outputs": [
        {
          "output_type": "stream",
          "name": "stdout",
          "text": [
            "Requirement already satisfied: h5py in /usr/local/lib/python3.10/dist-packages (3.9.0)\n",
            "Requirement already satisfied: numpy>=1.17.3 in /usr/local/lib/python3.10/dist-packages (from h5py) (1.25.2)\n"
          ]
        }
      ]
    },
    {
      "cell_type": "code",
      "source": [
        "import h5py"
      ],
      "metadata": {
        "id": "PALjvS0PjkO5"
      },
      "execution_count": 5,
      "outputs": []
    },
    {
      "cell_type": "markdown",
      "metadata": {
        "id": "ucnevGLoyKf_"
      },
      "source": [
        "**Let us check the version of tensorflow.**"
      ]
    },
    {
      "cell_type": "code",
      "execution_count": 6,
      "metadata": {
        "id": "W5as47YxyJVk",
        "colab": {
          "base_uri": "https://localhost:8080/",
          "height": 35
        },
        "outputId": "f3312bc7-1fb1-4f88-c4a1-08ae38120aae"
      },
      "outputs": [
        {
          "output_type": "execute_result",
          "data": {
            "text/plain": [
              "'2.15.0'"
            ],
            "application/vnd.google.colaboratory.intrinsic+json": {
              "type": "string"
            }
          },
          "metadata": {},
          "execution_count": 6
        }
      ],
      "source": [
        "tf.__version__"
      ]
    },
    {
      "cell_type": "markdown",
      "metadata": {
        "id": "8lsux2ZwyTTR"
      },
      "source": [
        "## **Load the dataset**\n",
        "\n",
        "- Let us now load the dataset that is available as a .h5 file.\n",
        "- Split the data into the train and the test dataset."
      ]
    },
    {
      "cell_type": "code",
      "execution_count": 7,
      "metadata": {
        "id": "BApX9qgNsqV0",
        "scrolled": true,
        "colab": {
          "base_uri": "https://localhost:8080/"
        },
        "outputId": "60253b7d-d631-4119-dde0-81e5ece2bc6b"
      },
      "outputs": [
        {
          "output_type": "stream",
          "name": "stdout",
          "text": [
            "Keys in HDF5 file: ['X_test', 'X_train', 'X_val', 'y_test', 'y_train', 'y_val']\n",
            "Dataset: X_test\n",
            "Dataset: X_train\n",
            "Dataset: X_val\n",
            "Dataset: y_test\n",
            "Dataset: y_train\n",
            "Dataset: y_val\n",
            "Dataset shape: (42000, 32, 32)\n",
            "Dataset type: float32\n",
            "Example data points: [[[ 33.0704  30.2601  26.852  ...  71.4471  58.2204  42.9939]\n",
            "  [ 25.2283  25.5533  29.9765 ... 113.0209 103.3639  84.2949]\n",
            "  [ 26.2775  22.6137  40.4763 ... 113.3028 121.775  115.4228]\n",
            "  ...\n",
            "  [ 28.5502  36.212   45.0801 ...  24.1359  25.0927  26.0603]\n",
            "  [ 38.4352  26.4733  23.2717 ...  28.1094  29.4683  30.0661]\n",
            "  [ 50.2984  26.0773  24.0389 ...  49.6682  50.853   53.0377]]\n",
            "\n",
            " [[ 86.9591  87.0685  88.3735 ...  91.8014  89.7477  92.5302]\n",
            "  [ 86.688   86.9114  87.4337 ...  90.7306  87.204   88.5629]\n",
            "  [ 85.9654  85.8145  85.9239 ...  63.8626  59.8199  54.8805]\n",
            "  ...\n",
            "  [ 90.2236  91.0448  93.4637 ...  55.3535  48.5822  44.0557]\n",
            "  [ 90.6427  90.4039  90.937  ...  78.2696  77.4977  74.27  ]\n",
            "  [ 88.0236  88.1977  86.6709 ...  75.2206  76.6396  79.2865]]\n",
            "\n",
            " [[123.125  125.8581 122.0757 ... 123.5747 124.1186 123.3144]\n",
            "  [121.1683 124.1294 117.4613 ... 115.6078 119.5751 122.8306]\n",
            "  [124.6132 121.1019 109.6623 ... 111.1783 119.7923 124.7595]\n",
            "  ...\n",
            "  [135.1391 127.3679 117.754  ...  95.0919 105.5917 114.9283]\n",
            "  [134.8402 131.9545 124.0415 ...  93.864  105.3036 115.1132]\n",
            "  [134.8402 132.0685 128.34   ...  93.9349 104.7875 113.8252]]\n",
            "\n",
            " [[147.6196 139.6204 142.6201 ... 151.1631 151.8641 148.8644]\n",
            "  [146.6197 137.6206 140.9084 ... 151.1631 149.8643 150.8642]\n",
            "  [145.6198 136.9088 139.9085 ... 151.8641 150.8642 151.8641]\n",
            "  ...\n",
            "  [106.1785  99.2393 101.5981 ... 157.9021 156.8914 156.8914]\n",
            "  [111.879  112.238  113.0099 ... 157.1302 156.8914 157.1795]\n",
            "  [122.8779 127.2365 128.2364 ... 157.1194 157.1795 157.1795]]\n",
            "\n",
            " [[153.989  155.1783 157.4276 ... 102.065  117.9171 129.0578]\n",
            "  [160.1024 159.694  157.6556 ...  98.7664 114.2056 122.4714]\n",
            "  [161.6292 160.3349 154.9979 ...  96.2828 108.4943 115.7602]\n",
            "  ...\n",
            "  [169.6993 165.4978 154.4603 ...  54.1544  58.2033  65.3767]\n",
            "  [172.699  168.4975 158.047  ...  46.867   51.6169  61.1491]\n",
            "  [176.6986 172.4971 160.6877 ...  45.693   48.6172  58.1494]]]\n"
          ]
        }
      ],
      "source": [
        "# File path in Google Drive\n",
        "file_path = '/content/drive/MyDrive/Python Course/SVHN_single_grey1.h5'\n",
        "\n",
        "# Open the HDF5 file\n",
        "with h5py.File(file_path, 'r') as hdf:\n",
        "    # List all groups in the HDF5 file\n",
        "    print(\"Keys in HDF5 file:\", list(hdf.keys()))\n",
        "\n",
        "    # Check for the correct dataset name\n",
        "    for key in hdf.keys():\n",
        "        print(\"Dataset:\", key)\n",
        "\n",
        "    # Access a specific dataset\n",
        "    dataset_name = 'X_train'\n",
        "    dataset = hdf[dataset_name][:]\n",
        "\n",
        "    # Print dataset information\n",
        "    print(\"Dataset shape:\", dataset.shape)\n",
        "    print(\"Dataset type:\", dataset.dtype)\n",
        "\n",
        "    # Print some data points\n",
        "    print(\"Example data points:\", dataset[:5])"
      ]
    },
    {
      "cell_type": "markdown",
      "metadata": {
        "id": "hVe0CYpUgj7w"
      },
      "source": [
        "Check the number of images in the training and the testing dataset."
      ]
    },
    {
      "cell_type": "code",
      "execution_count": 8,
      "metadata": {
        "id": "y3lwKpOefkpA",
        "colab": {
          "base_uri": "https://localhost:8080/"
        },
        "outputId": "9a5b1852-2d26-427c-b216-ecbe8f819aa1"
      },
      "outputs": [
        {
          "output_type": "stream",
          "name": "stdout",
          "text": [
            "Training dataset shape: (42000, 32, 32)\n",
            "Image count in training dataset: 42000\n",
            "Testing dataset shape: (18000, 32, 32)\n",
            "Image count in testing dataset: 18000\n",
            "Validation dataset shape: (60000, 32, 32)\n",
            "Image count in validation dataset: 60000\n",
            "Shape of labels corresponding to training dataset: 42000\n",
            "Shape of labels corresponding to testing dataset: 18000\n",
            "Shape of labels corresponding to validation dataset: 60000\n"
          ]
        }
      ],
      "source": [
        "with h5py.File(file_path, 'r') as hdf:\n",
        "  X_train = hdf['X_train']\n",
        "  print(f\"Training dataset shape: {X_train.shape}\")\n",
        "  print(f\"Image count in training dataset: {X_train.shape[0]}\")\n",
        "\n",
        "  X_test = hdf['X_test']\n",
        "  print(f\"Testing dataset shape: {X_test.shape}\")\n",
        "  print(f\"Image count in testing dataset: {X_test.shape[0]}\")\n",
        "\n",
        "  X_val = hdf['X_val']\n",
        "  print(f\"Validation dataset shape: {X_val.shape}\")\n",
        "  print(f\"Image count in validation dataset: {X_val.shape[0]}\")\n",
        "\n",
        "  y_train = hdf['y_train']\n",
        "  print(f\"Shape of labels corresponding to training dataset: {y_train.shape[0]}\")\n",
        "\n",
        "  y_test = hdf['y_test']\n",
        "  print(f\"Shape of labels corresponding to testing dataset: {y_test.shape[0]}\")\n",
        "\n",
        "  y_val = hdf['y_val']\n",
        "  print(f\"Shape of labels corresponding to validation dataset: {y_val.shape[0]}\")\n",
        "\n",
        "\n"
      ]
    },
    {
      "cell_type": "markdown",
      "metadata": {
        "id": "akTUOfLlgwoM"
      },
      "source": [
        "**Observation:**\n",
        ".h5 file has training, testing and validation dataset with 42K, 18K and 60K images in them respectively. Images has dimensions of 32x32 pixels. Pixel value of the images are float32. Each dataset has a corresponding set of labels (y_train, y_val, y_test), which are essential for supervised learning tasks."
      ]
    },
    {
      "cell_type": "markdown",
      "metadata": {
        "id": "kxODV6HKykuc"
      },
      "source": [
        "## **Visualizing images**\n",
        "\n",
        "- Use X_train to visualize the first 10 images.\n",
        "- Use Y_train to print the first 10 labels."
      ]
    },
    {
      "cell_type": "code",
      "execution_count": 9,
      "metadata": {
        "id": "Bvsc8ytHsqWD",
        "colab": {
          "base_uri": "https://localhost:8080/",
          "height": 119
        },
        "outputId": "521249ae-7c22-4819-9bad-d7c623c6d446"
      },
      "outputs": [
        {
          "output_type": "stream",
          "name": "stdout",
          "text": [
            "Training dataset shape: (42000, 32, 32)\n"
          ]
        },
        {
          "output_type": "display_data",
          "data": {
            "text/plain": [
              "<Figure size 1000x1000 with 10 Axes>"
            ],
            "image/png": "[encoded data removed]"
          },
          "metadata": {}
        }
      ],
      "source": [
        "with h5py.File(file_path, 'r') as hdf:\n",
        "   #access the training dataset\n",
        "   X_train = hdf['X_train'][:]\n",
        "\n",
        "   print(f\"Training dataset shape: {X_train.shape}\")\n",
        "\n",
        "   #visualize the images\n",
        "   plt.figure(figsize=(10, 10))\n",
        "   for i in range(10):\n",
        "      plt.subplot(1, 10, i+1)\n",
        "      plt.imshow(X_train[i], cmap='gray')\n",
        "      plt.axis('off')\n",
        "   plt.show()\n"
      ]
    },
    {
      "cell_type": "code",
      "source": [
        "with h5py.File(file_path, 'r') as hdf:\n",
        "   #access the training dataset\n",
        "   y_train = hdf['y_train'][:]\n",
        "\n",
        "   print(f\"Training dataset shape: {y_train.shape[0]}\")\n",
        "   print(\"First 10 labels: \", y_train[:10])"
      ],
      "metadata": {
        "colab": {
          "base_uri": "https://localhost:8080/"
        },
        "id": "gbhzSjQUa5PL",
        "outputId": "6e5b96de-5a7c-4051-dfbd-d2818ad6a6b8"
      },
      "execution_count": 10,
      "outputs": [
        {
          "output_type": "stream",
          "name": "stdout",
          "text": [
            "Training dataset shape: 42000\n",
            "First 10 labels:  [2 6 7 4 4 0 3 0 7 3]\n"
          ]
        }
      ]
    },
    {
      "cell_type": "markdown",
      "metadata": {
        "id": "kzoyeXHOy80N"
      },
      "source": [
        "## **Data preparation**\n",
        "\n",
        "- Print the shape and the array of pixels for the first image in the training dataset.\n",
        "- Normalize the train and the test dataset by dividing by 255.\n",
        "- Print the new shapes of the train and the test dataset.\n",
        "- One-hot encode the target variable."
      ]
    },
    {
      "cell_type": "code",
      "execution_count": 11,
      "metadata": {
        "id": "NqndzQXng9rL",
        "colab": {
          "base_uri": "https://localhost:8080/"
        },
        "outputId": "3fd3eeba-ec82-4f65-989b-1a67257b4b10"
      },
      "outputs": [
        {
          "output_type": "stream",
          "name": "stdout",
          "text": [
            "First image of training dataset: (32, 32)\n",
            "Array of pixels for the first image: \n",
            "[[ 33.0704  30.2601  26.852  ...  71.4471  58.2204  42.9939]\n",
            " [ 25.2283  25.5533  29.9765 ... 113.0209 103.3639  84.2949]\n",
            " [ 26.2775  22.6137  40.4763 ... 113.3028 121.775  115.4228]\n",
            " ...\n",
            " [ 28.5502  36.212   45.0801 ...  24.1359  25.0927  26.0603]\n",
            " [ 38.4352  26.4733  23.2717 ...  28.1094  29.4683  30.0661]\n",
            " [ 50.2984  26.0773  24.0389 ...  49.6682  50.853   53.0377]]\n"
          ]
        }
      ],
      "source": [
        "print(f\"First image of training dataset: {X_train[0].shape}\")\n",
        "print(f\"Array of pixels for the first image: \\n{X_train[0]}\")"
      ]
    },
    {
      "cell_type": "markdown",
      "metadata": {
        "id": "f4CQkKtQ0XII"
      },
      "source": [
        "### **Normalize the train and the test data**"
      ]
    },
    {
      "cell_type": "code",
      "execution_count": 12,
      "metadata": {
        "id": "q_yUUTp_mUzB",
        "colab": {
          "base_uri": "https://localhost:8080/"
        },
        "outputId": "509fbf0e-595f-4097-c43d-63764121fe07"
      },
      "outputs": [
        {
          "output_type": "stream",
          "name": "stdout",
          "text": [
            "First image of training dataset: (32, 32)\n",
            "Array of pixels for the first image: \n",
            "[[0.12968785 0.11866706 0.10530196 ... 0.2801847  0.2283153  0.16860352]\n",
            " [0.09893451 0.10020902 0.1175549  ... 0.4432192  0.40534863 0.33056822]\n",
            " [0.10304902 0.08868118 0.15873058 ... 0.44432473 0.47754902 0.45263842]\n",
            " ...\n",
            " [0.11196157 0.14200786 0.17678471 ... 0.09465059 0.09840274 0.10219726]\n",
            " [0.15072627 0.10381687 0.09126157 ... 0.11023294 0.11556196 0.11790627]\n",
            " [0.19724864 0.10226392 0.0942702  ... 0.19477727 0.19942354 0.20799099]]\n"
          ]
        }
      ],
      "source": [
        "with h5py.File(file_path, 'r') as hdf:\n",
        "\n",
        "    # Access the training dataset\n",
        "    X_train = hdf['X_train'][:]\n",
        "    X_test = hdf['X_test'][:]\n",
        "\n",
        "X_train_normalized = X_train/255.0\n",
        "X_test_normalized = X_test/255.0\n",
        "\n",
        "print(f\"First image of training dataset: {X_train_normalized[0].shape}\")\n",
        "print(f\"Array of pixels for the first image: \\n{X_train_normalized[0]}\")"
      ]
    },
    {
      "cell_type": "markdown",
      "metadata": {
        "id": "YSlYN6pb8kMY"
      },
      "source": [
        "Print the shapes of Training and Test data"
      ]
    },
    {
      "cell_type": "code",
      "execution_count": 13,
      "metadata": {
        "id": "t7FSqOpamWkH",
        "colab": {
          "base_uri": "https://localhost:8080/"
        },
        "outputId": "a1fec80f-3005-48cd-ef1d-b06b205fdca5"
      },
      "outputs": [
        {
          "output_type": "stream",
          "name": "stdout",
          "text": [
            "Training dataset shape: 42000\n",
            "Test dataset shape: 18000\n"
          ]
        }
      ],
      "source": [
        "print(f\"Training dataset shape: {X_train_normalized.shape[0]}\")\n",
        "print(f\"Test dataset shape: {X_test_normalized.shape[0]}\")"
      ]
    },
    {
      "cell_type": "markdown",
      "source": [
        "### **One-hot encode output**"
      ],
      "metadata": {
        "id": "YaO9d4lgVHtO"
      }
    },
    {
      "cell_type": "code",
      "execution_count": 14,
      "metadata": {
        "id": "zL0lYER4sqWw",
        "colab": {
          "base_uri": "https://localhost:8080/"
        },
        "outputId": "30729a73-b9c7-4d71-a34b-98e11759ac5a"
      },
      "outputs": [
        {
          "output_type": "stream",
          "name": "stdout",
          "text": [
            "Shape of y_train_one_hot: (42000, 10)\n",
            "Shape of y_test_one_hot: (18000, 10)\n",
            "First 5 one-hot encoded labels (y_train):\n",
            "[[0. 0. 1. 0. 0. 0. 0. 0. 0. 0.]\n",
            " [0. 0. 0. 0. 0. 0. 1. 0. 0. 0.]\n",
            " [0. 0. 0. 0. 0. 0. 0. 1. 0. 0.]\n",
            " [0. 0. 0. 0. 1. 0. 0. 0. 0. 0.]\n",
            " [0. 0. 0. 0. 1. 0. 0. 0. 0. 0.]]\n"
          ]
        }
      ],
      "source": [
        "from tensorflow.keras.utils import to_categorical\n",
        "\n",
        "with h5py.File(file_path, 'r') as hdf:\n",
        "    # Access the labels\n",
        "    y_train = hdf['y_train'][:]\n",
        "    y_test = hdf['y_test'][:]\n",
        "\n",
        "    # Perform one-hot encoding on the labels\n",
        "    y_train_one_hot = to_categorical(y_train)\n",
        "    y_test_one_hot = to_categorical(y_test)\n",
        "\n",
        "    # Print the shape of the one-hot encoded labels\n",
        "    print(f\"Shape of y_train_one_hot: {y_train_one_hot.shape}\")\n",
        "    print(f\"Shape of y_test_one_hot: {y_test_one_hot.shape}\")\n",
        "\n",
        "    # Print the first 5 one-hot encoded labels for verification\n",
        "    print(\"First 5 one-hot encoded labels (y_train):\")\n",
        "    print(y_train_one_hot[:5])"
      ]
    },
    {
      "cell_type": "markdown",
      "metadata": {
        "id": "ViqPOTquCF76"
      },
      "source": [
        "**Observation:**\n",
        "Training dataset contains 42K samples and test dataset has 18K. Data has been normalized and preprocessed and ready for modeling."
      ]
    },
    {
      "cell_type": "markdown",
      "metadata": {
        "id": "yH-gVrzuByNA"
      },
      "source": [
        "## **Model Building**\n",
        "\n",
        "Now that we have done the data preprocessing, let's build an ANN model.\n",
        "\n",
        "### Fix the seed for random number generators"
      ]
    },
    {
      "cell_type": "code",
      "execution_count": 15,
      "metadata": {
        "id": "BcKRwrGn0XIL",
        "colab": {
          "base_uri": "https://localhost:8080/"
        },
        "outputId": "c1fe74c7-3a51-4e07-cd6f-ea1aa6e24d4d"
      },
      "outputs": [
        {
          "output_type": "stream",
          "name": "stdout",
          "text": [
            "0.3745401188473625\n"
          ]
        }
      ],
      "source": [
        "#setting a set for reproducibility\n",
        "np.random.seed(42)\n",
        "\n",
        "#generating a random number as an example\n",
        "print(np.random.random())"
      ]
    },
    {
      "cell_type": "markdown",
      "metadata": {
        "id": "UJDUoaEj1d6e"
      },
      "source": [
        " ### **Model Architecture**\n",
        "- Write a function that returns a sequential model with the following architecture:\n",
        " - First hidden layer with **64 nodes and the relu activation** and the **input shape = (1024, )**\n",
        " - Second hidden layer with **32 nodes and the relu activation**\n",
        " - Output layer with **activation as 'softmax' and number of nodes equal to the number of classes, i.e., 10**\n",
        " - Compile the model with the **loss equal to categorical_crossentropy, optimizer equal to Adam(learning_rate = 0.001), and metric equal to 'accuracy'**. Do not fit the model here, just return the compiled model.\n",
        "- Call the nn_model_1 function and store the model in a new variable.\n",
        "- Print the summary of the model.\n",
        "- Fit on the train data with a **validation split of 0.2, batch size = 128, verbose = 1, and epochs = 20**. Store the model building history to use later for visualization."
      ]
    },
    {
      "cell_type": "code",
      "source": [
        "from tensorflow.keras.models import Sequential\n",
        "from tensorflow.keras.layers import Dense, Flatten\n",
        "\n",
        "def create_nn_model(input_shape=(32,32), num_classes=10):\n",
        "\n",
        "    nn_model1 = Sequential()\n",
        "\n",
        "    # Flatten layer to convert image data to 1D\n",
        "    nn_model1.add(Flatten(input_shape=input_shape))\n",
        "\n",
        "    #First hidden layer with 64 nodes and relu activation\n",
        "    nn_model1.add(Dense(units=64, activation='relu', input_shape=input_shape)),\n",
        "\n",
        "    # second hidden layer with 32 nodes and relu activation\n",
        "    nn_model1.add(Dense(units=32, activation='relu')),\n",
        "\n",
        "    # Output layer with softmax activation and number of nodes equal to num_classes\n",
        "    nn_model1.add(Dense(units=num_classes, activation=\"softmax\"))\n",
        "\n",
        "    # Compile the model\n",
        "    nn_model1.compile(optimizer = tf.keras.optimizers.Adam(learning_rate=0.001),\n",
        "                      loss='categorical_crossentropy',\n",
        "                      metrics=['accuracy'])\n",
        "\n",
        "    return nn_model1\n",
        "\n",
        "model = create_nn_model(input_shape=(32,32), num_classes=10)\n",
        "model.summary()\n"
      ],
      "metadata": {
        "id": "NmcSCjuiJZYj",
        "colab": {
          "base_uri": "https://localhost:8080/"
        },
        "outputId": "c77cfb68-b12a-4100-e73a-aaa19a7d7d61"
      },
      "execution_count": 16,
      "outputs": [
        {
          "output_type": "stream",
          "name": "stdout",
          "text": [
            "Model: \"sequential\"\n",
            "_________________________________________________________________\n",
            " Layer (type)                Output Shape              Param #   \n",
            "=================================================================\n",
            " flatten (Flatten)           (None, 1024)              0         \n",
            "                                                                 \n",
            " dense (Dense)               (None, 64)                65600     \n",
            "                                                                 \n",
            " dense_1 (Dense)             (None, 32)                2080      \n",
            "                                                                 \n",
            " dense_2 (Dense)             (None, 10)                330       \n",
            "                                                                 \n",
            "=================================================================\n",
            "Total params: 68010 (265.66 KB)\n",
            "Trainable params: 68010 (265.66 KB)\n",
            "Non-trainable params: 0 (0.00 Byte)\n",
            "_________________________________________________________________\n"
          ]
        }
      ]
    },
    {
      "cell_type": "markdown",
      "metadata": {
        "id": "A48z6ucF0XIP"
      },
      "source": [
        "### **Build and train an ANN model as per the above mentioned architecture.**"
      ]
    },
    {
      "cell_type": "code",
      "source": [
        "#Fit the model\n",
        "\n",
        "tf.config.run_functions_eagerly(True)\n",
        "history = model.fit(X_train, y_train_one_hot, epochs=20, batch_size=128, verbose=1, validation_split=0.2)"
      ],
      "metadata": {
        "colab": {
          "base_uri": "https://localhost:8080/"
        },
        "id": "GHsrqENBUqUR",
        "outputId": "936f8997-82ff-4dbf-bb3b-48a7db459502"
      },
      "execution_count": 17,
      "outputs": [
        {
          "output_type": "stream",
          "name": "stderr",
          "text": [
            "/usr/local/lib/python3.10/dist-packages/tensorflow/python/data/ops/structured_function.py:258: UserWarning: Even though the `tf.config.experimental_run_functions_eagerly` option is set, this option does not apply to tf.data functions. To force eager execution of tf.data functions, please use `tf.data.experimental.enable_debug_mode()`.\n",
            "  warnings.warn(\n"
          ]
        },
        {
          "output_type": "stream",
          "name": "stdout",
          "text": [
            "Epoch 1/20\n",
            "263/263 [==============================] - 24s 89ms/step - loss: 6.8801 - accuracy: 0.1004 - val_loss: 2.3151 - val_accuracy: 0.1048\n",
            "Epoch 2/20\n",
            "263/263 [==============================] - 10s 37ms/step - loss: 2.3077 - accuracy: 0.1005 - val_loss: 2.3092 - val_accuracy: 0.1014\n",
            "Epoch 3/20\n",
            "263/263 [==============================] - 10s 38ms/step - loss: 2.3040 - accuracy: 0.1012 - val_loss: 2.3060 - val_accuracy: 0.1014\n",
            "Epoch 4/20\n",
            "263/263 [==============================] - 10s 39ms/step - loss: 2.3033 - accuracy: 0.1025 - val_loss: 2.3044 - val_accuracy: 0.1013\n",
            "Epoch 5/20\n",
            "263/263 [==============================] - 10s 38ms/step - loss: 2.3030 - accuracy: 0.1018 - val_loss: 2.3051 - val_accuracy: 0.1017\n",
            "Epoch 6/20\n",
            "263/263 [==============================] - 10s 39ms/step - loss: 2.3026 - accuracy: 0.1023 - val_loss: 2.3040 - val_accuracy: 0.1014\n",
            "Epoch 7/20\n",
            "263/263 [==============================] - 10s 39ms/step - loss: 2.3022 - accuracy: 0.1024 - val_loss: 2.3041 - val_accuracy: 0.1015\n",
            "Epoch 8/20\n",
            "263/263 [==============================] - 16s 61ms/step - loss: 2.3022 - accuracy: 0.1019 - val_loss: 2.3033 - val_accuracy: 0.1017\n",
            "Epoch 9/20\n",
            "263/263 [==============================] - 9s 36ms/step - loss: 2.3018 - accuracy: 0.1016 - val_loss: 2.3060 - val_accuracy: 0.1019\n",
            "Epoch 10/20\n",
            "263/263 [==============================] - 10s 38ms/step - loss: 2.3017 - accuracy: 0.1007 - val_loss: 2.3029 - val_accuracy: 0.1018\n",
            "Epoch 11/20\n",
            "263/263 [==============================] - 10s 39ms/step - loss: 2.3027 - accuracy: 0.1008 - val_loss: 2.3032 - val_accuracy: 0.0974\n",
            "Epoch 12/20\n",
            "263/263 [==============================] - 10s 39ms/step - loss: 2.3021 - accuracy: 0.1009 - val_loss: 2.3031 - val_accuracy: 0.1011\n",
            "Epoch 13/20\n",
            "263/263 [==============================] - 9s 35ms/step - loss: 2.3029 - accuracy: 0.1027 - val_loss: 2.3032 - val_accuracy: 0.1017\n",
            "Epoch 14/20\n",
            "263/263 [==============================] - 10s 38ms/step - loss: 2.3023 - accuracy: 0.0994 - val_loss: 2.3032 - val_accuracy: 0.0974\n",
            "Epoch 15/20\n",
            "263/263 [==============================] - 10s 38ms/step - loss: 2.3022 - accuracy: 0.1015 - val_loss: 2.3035 - val_accuracy: 0.1018\n",
            "Epoch 16/20\n",
            "263/263 [==============================] - 9s 33ms/step - loss: 2.3024 - accuracy: 0.0996 - val_loss: 2.3475 - val_accuracy: 0.1015\n",
            "Epoch 17/20\n",
            "263/263 [==============================] - 10s 37ms/step - loss: 2.3032 - accuracy: 0.1001 - val_loss: 2.3026 - val_accuracy: 0.1014\n",
            "Epoch 18/20\n",
            "263/263 [==============================] - 10s 37ms/step - loss: 2.3026 - accuracy: 0.1020 - val_loss: 2.3026 - val_accuracy: 0.1014\n",
            "Epoch 19/20\n",
            "263/263 [==============================] - 10s 38ms/step - loss: 2.3026 - accuracy: 0.1006 - val_loss: 2.3027 - val_accuracy: 0.1014\n",
            "Epoch 20/20\n",
            "263/263 [==============================] - 13s 48ms/step - loss: 2.3026 - accuracy: 0.1010 - val_loss: 2.3027 - val_accuracy: 0.1014\n"
          ]
        }
      ]
    },
    {
      "cell_type": "markdown",
      "metadata": {
        "id": "MeF8XSWz0XIU"
      },
      "source": [
        "### **Plot the Training and Validation Accuracies and write down your Observations.**"
      ]
    },
    {
      "cell_type": "code",
      "execution_count": 18,
      "metadata": {
        "id": "lt77zgGMP4yw",
        "colab": {
          "base_uri": "https://localhost:8080/",
          "height": 427
        },
        "outputId": "fb9e33f4-1f87-4391-fe64-07fa4caf4715"
      },
      "outputs": [
        {
          "output_type": "stream",
          "name": "stdout",
          "text": [
            "dict_keys(['loss', 'accuracy', 'val_loss', 'val_accuracy'])\n"
          ]
        },
        {
          "output_type": "display_data",
          "data": {
            "text/plain": [
              "<Figure size 1200x400 with 2 Axes>"
            ],
            "image/png": "[encoded data removed]"
          },
          "metadata": {}
        }
      ],
      "source": [
        "# Print the history keys to see what metrics are available\n",
        "print(history.history.keys())\n",
        "\n",
        "# Plot training & validation accuracy values\n",
        "plt.figure(figsize=(12, 4))\n",
        "\n",
        "plt.subplot(1, 2, 1)\n",
        "plt.plot(history.history['accuracy'])\n",
        "plt.plot(history.history['val_accuracy'])\n",
        "plt.title('Model accuracy')\n",
        "plt.xlabel('Epoch')\n",
        "plt.ylabel('Accuracy')\n",
        "plt.legend(['Train', 'Validation'], loc='upper left')\n",
        "\n",
        "# Plot training & validation loss values\n",
        "plt.subplot(1, 2, 2)\n",
        "plt.plot(history.history['loss'])\n",
        "plt.plot(history.history['val_loss'])\n",
        "plt.title('Model loss')\n",
        "plt.xlabel('Epoch')\n",
        "plt.ylabel('Loss')\n",
        "plt.legend(['Train', 'Validation'], loc='upper left')\n",
        "\n",
        "plt.show()"
      ]
    },
    {
      "cell_type": "markdown",
      "metadata": {
        "id": "pGBbQpLONX7k"
      },
      "source": [
        "**Observations: The ANN model is improving with each epoch. By epoch 20 accuracy reached ~60%. We can see that Validation data accuracy increased, but also fluctuated a lot, which can mean model is overfitting. Both training and validation set loss decresed with each epoch. Overall, this model would need more epochs to converge fully.**"
      ]
    },
    {
      "cell_type": "markdown",
      "metadata": {
        "id": "z0qgLMBZm5-K"
      },
      "source": [
        "Let's build one more model with higher complexity and see if we can improve the performance of the model.\n",
        "\n",
        "First, we need to clear the previous model's history from the Keras backend. Also, let's fix the seed again after clearing the backend."
      ]
    },
    {
      "cell_type": "code",
      "execution_count": 19,
      "metadata": {
        "id": "I_ih3wEU9wIk"
      },
      "outputs": [],
      "source": [
        "from tensorflow.keras import backend as K\n",
        "K.clear_session()\n"
      ]
    },
    {
      "cell_type": "code",
      "source": [
        "#setting a set for reproducibility\n",
        "np.random.seed(42)\n",
        "\n",
        "#generating a random number as an example\n",
        "print(np.random.random())"
      ],
      "metadata": {
        "colab": {
          "base_uri": "https://localhost:8080/"
        },
        "id": "OdBSkNKIZOIJ",
        "outputId": "e395bb25-a868-4e35-bffe-eb322fe831b6"
      },
      "execution_count": 20,
      "outputs": [
        {
          "output_type": "stream",
          "name": "stdout",
          "text": [
            "0.3745401188473625\n"
          ]
        }
      ]
    },
    {
      "cell_type": "markdown",
      "metadata": {
        "id": "lT6o3TIKuCtk"
      },
      "source": [
        "### **Second Model Architecture**\n",
        "- Write a function that returns a sequential model with the following architecture:\n",
        " - First hidden layer with **256 nodes and the relu activation** and the **input shape = (1024, )**\n",
        " - Second hidden layer with **128 nodes and the relu activation**\n",
        " - Add the **Dropout layer with the rate equal to 0.2**\n",
        " - Third hidden layer with **64 nodes and the relu activation**\n",
        " - Fourth hidden layer with **64 nodes and the relu activation**\n",
        " - Fifth hidden layer with **32 nodes and the relu activation**\n",
        " - Add the **BatchNormalization layer**\n",
        " - Output layer with **activation as 'softmax' and number of nodes equal to the number of classes, i.e., 10**\n",
        " -Compile the model with the **loss equal to categorical_crossentropy, optimizer equal to Adam(learning_rate = 0.0005), and metric equal to 'accuracy'**. Do not fit the model here, just return the compiled model.\n",
        "- Call the nn_model_2 function and store the model in a new variable.\n",
        "- Print the summary of the model.\n",
        "- Fit on the train data with a **validation split of 0.2, batch size = 128, verbose = 1, and epochs = 30**. Store the model building history to use later for visualization."
      ]
    },
    {
      "cell_type": "markdown",
      "metadata": {
        "id": "f-ZjNBmH0XIV"
      },
      "source": [
        "### **Build and train the new ANN model as per the above mentioned architecture**"
      ]
    },
    {
      "cell_type": "code",
      "execution_count": 21,
      "metadata": {
        "id": "EEPYLFIPnSDP",
        "colab": {
          "base_uri": "https://localhost:8080/"
        },
        "outputId": "aa5d84a0-692c-4fa6-ac3e-8b8e9645f283"
      },
      "outputs": [
        {
          "output_type": "stream",
          "name": "stdout",
          "text": [
            "Model: \"sequential\"\n",
            "_________________________________________________________________\n",
            " Layer (type)                Output Shape              Param #   \n",
            "=================================================================\n",
            " flatten (Flatten)           (None, 1024)              0         \n",
            "                                                                 \n",
            " dense (Dense)               (None, 256)               262400    \n",
            "                                                                 \n",
            " dense_1 (Dense)             (None, 128)               32896     \n",
            "                                                                 \n",
            " dropout (Dropout)           (None, 128)               0         \n",
            "                                                                 \n",
            " dense_2 (Dense)             (None, 64)                8256      \n",
            "                                                                 \n",
            " dense_3 (Dense)             (None, 64)                4160      \n",
            "                                                                 \n",
            " batch_normalization (Batch  (None, 64)                256       \n",
            " Normalization)                                                  \n",
            "                                                                 \n",
            " dense_4 (Dense)             (None, 10)                650       \n",
            "                                                                 \n",
            "=================================================================\n",
            "Total params: 308618 (1.18 MB)\n",
            "Trainable params: 308490 (1.18 MB)\n",
            "Non-trainable params: 128 (512.00 Byte)\n",
            "_________________________________________________________________\n"
          ]
        }
      ],
      "source": [
        "from tensorflow.keras.layers import BatchNormalization, Dropout\n",
        "from tensorflow.keras.optimizers import Adam\n",
        "\n",
        "def create_nn_model2(input_shape=(32,32), num_classes=10):\n",
        "\n",
        "    nn_model2 = Sequential()\n",
        "\n",
        "    # Flatten layer to convert image data to 1D\n",
        "    nn_model2.add(Flatten(input_shape=input_shape))\n",
        "\n",
        "    #First hidden layer with 256 nodes and relu activation\n",
        "    nn_model2.add(Dense(units=256, activation='relu', input_shape=input_shape)),\n",
        "\n",
        "    # second hidden layer with 128 nodes and relu activation\n",
        "    nn_model2.add(Dense(units=128, activation='relu')),\n",
        "    nn_model2.add(Dropout(0.2))\n",
        "\n",
        "    #Third hidden layer with 64 nodes and relu activation\n",
        "    nn_model2.add(Dense(units=64, activation='relu')),\n",
        "\n",
        "    #Fourth hidden layer with 64 nodes and relu activation\n",
        "    nn_model2.add(Dense(units=64, activation='relu')),\n",
        "    nn_model2.add(BatchNormalization()),\n",
        "\n",
        "    # Output layer with softmax activation and number of nodes equal to num_classes\n",
        "    nn_model2.add(Dense(units=num_classes, activation=\"softmax\"))\n",
        "\n",
        "    # Compile the model\n",
        "    nn_model2.compile(optimizer = Adam(learning_rate=0.0005),\n",
        "                      loss='categorical_crossentropy',\n",
        "                      metrics=['accuracy'])\n",
        "\n",
        "    return nn_model2\n",
        "\n",
        "model2 = create_nn_model2(input_shape=(32,32), num_classes=10)\n",
        "model2.summary()"
      ]
    },
    {
      "cell_type": "markdown",
      "metadata": {
        "id": "ZJYsvjmw0XIX"
      },
      "source": [
        "### **Plot the Training and Validation Accuracies and write down your Observations.**"
      ]
    },
    {
      "cell_type": "code",
      "execution_count": 22,
      "metadata": {
        "id": "01ig6BrF1KVy",
        "colab": {
          "base_uri": "https://localhost:8080/"
        },
        "outputId": "609a3062-7b4c-4fc5-c51a-2e2ec96145b0"
      },
      "outputs": [
        {
          "output_type": "stream",
          "name": "stdout",
          "text": [
            "Epoch 1/30\n",
            "263/263 [==============================] - 19s 71ms/step - loss: 2.4329 - accuracy: 0.1015 - val_loss: 2.3255 - val_accuracy: 0.1014\n",
            "Epoch 2/30\n",
            "263/263 [==============================] - 19s 73ms/step - loss: 2.3212 - accuracy: 0.1014 - val_loss: 2.3087 - val_accuracy: 0.1052\n",
            "Epoch 3/30\n",
            "263/263 [==============================] - 20s 76ms/step - loss: 2.3013 - accuracy: 0.1192 - val_loss: 2.2593 - val_accuracy: 0.1396\n",
            "Epoch 4/30\n",
            "263/263 [==============================] - 26s 100ms/step - loss: 2.2123 - accuracy: 0.1475 - val_loss: 2.2237 - val_accuracy: 0.1452\n",
            "Epoch 5/30\n",
            "263/263 [==============================] - 25s 94ms/step - loss: 2.0939 - accuracy: 0.1805 - val_loss: 1.9682 - val_accuracy: 0.2263\n",
            "Epoch 6/30\n",
            "263/263 [==============================] - 23s 87ms/step - loss: 2.0738 - accuracy: 0.1929 - val_loss: 2.0784 - val_accuracy: 0.1908\n",
            "Epoch 7/30\n",
            "263/263 [==============================] - 18s 69ms/step - loss: 2.0394 - accuracy: 0.2028 - val_loss: 1.9702 - val_accuracy: 0.2289\n",
            "Epoch 8/30\n",
            "263/263 [==============================] - 19s 74ms/step - loss: 1.9888 - accuracy: 0.2263 - val_loss: 1.9212 - val_accuracy: 0.2542\n",
            "Epoch 9/30\n",
            "263/263 [==============================] - 18s 70ms/step - loss: 1.9715 - accuracy: 0.2397 - val_loss: 1.8943 - val_accuracy: 0.2807\n",
            "Epoch 10/30\n",
            "263/263 [==============================] - 18s 68ms/step - loss: 1.8845 - accuracy: 0.2859 - val_loss: 1.8110 - val_accuracy: 0.3317\n",
            "Epoch 11/30\n",
            "263/263 [==============================] - 18s 69ms/step - loss: 1.7563 - accuracy: 0.3514 - val_loss: 1.8723 - val_accuracy: 0.3556\n",
            "Epoch 12/30\n",
            "263/263 [==============================] - 19s 72ms/step - loss: 1.6867 - accuracy: 0.3842 - val_loss: 1.5621 - val_accuracy: 0.4510\n",
            "Epoch 13/30\n",
            "263/263 [==============================] - 18s 67ms/step - loss: 1.6217 - accuracy: 0.4177 - val_loss: 1.4916 - val_accuracy: 0.4843\n",
            "Epoch 14/30\n",
            "263/263 [==============================] - 18s 70ms/step - loss: 1.5321 - accuracy: 0.4535 - val_loss: 1.3979 - val_accuracy: 0.5382\n",
            "Epoch 15/30\n",
            "263/263 [==============================] - 19s 70ms/step - loss: 1.4505 - accuracy: 0.4976 - val_loss: 1.3245 - val_accuracy: 0.5576\n",
            "Epoch 16/30\n",
            "263/263 [==============================] - 19s 71ms/step - loss: 1.3915 - accuracy: 0.5279 - val_loss: 1.3099 - val_accuracy: 0.5651\n",
            "Epoch 17/30\n",
            "263/263 [==============================] - 18s 67ms/step - loss: 1.3274 - accuracy: 0.5607 - val_loss: 1.2236 - val_accuracy: 0.6104\n",
            "Epoch 18/30\n",
            "263/263 [==============================] - 18s 69ms/step - loss: 1.2790 - accuracy: 0.5834 - val_loss: 1.2246 - val_accuracy: 0.6070\n",
            "Epoch 19/30\n",
            "263/263 [==============================] - 20s 76ms/step - loss: 1.2450 - accuracy: 0.5960 - val_loss: 1.1127 - val_accuracy: 0.6520\n",
            "Epoch 20/30\n",
            "263/263 [==============================] - 18s 67ms/step - loss: 1.1980 - accuracy: 0.6178 - val_loss: 1.1131 - val_accuracy: 0.6500\n",
            "Epoch 21/30\n",
            "263/263 [==============================] - 18s 69ms/step - loss: 1.1429 - accuracy: 0.6364 - val_loss: 1.0958 - val_accuracy: 0.6544\n",
            "Epoch 22/30\n",
            "263/263 [==============================] - 19s 73ms/step - loss: 1.1102 - accuracy: 0.6482 - val_loss: 1.0212 - val_accuracy: 0.6833\n",
            "Epoch 23/30\n",
            "263/263 [==============================] - 19s 71ms/step - loss: 1.0782 - accuracy: 0.6601 - val_loss: 1.0129 - val_accuracy: 0.6800\n",
            "Epoch 24/30\n",
            "263/263 [==============================] - 18s 68ms/step - loss: 1.1112 - accuracy: 0.6496 - val_loss: 1.0255 - val_accuracy: 0.6805\n",
            "Epoch 25/30\n",
            "263/263 [==============================] - 18s 68ms/step - loss: 1.0489 - accuracy: 0.6721 - val_loss: 0.9856 - val_accuracy: 0.6899\n",
            "Epoch 26/30\n",
            "263/263 [==============================] - 19s 73ms/step - loss: 1.0177 - accuracy: 0.6819 - val_loss: 0.9834 - val_accuracy: 0.6961\n",
            "Epoch 27/30\n",
            "263/263 [==============================] - 18s 67ms/step - loss: 0.9903 - accuracy: 0.6921 - val_loss: 0.9548 - val_accuracy: 0.7076\n",
            "Epoch 28/30\n",
            "263/263 [==============================] - 18s 69ms/step - loss: 0.9793 - accuracy: 0.6952 - val_loss: 0.9354 - val_accuracy: 0.7021\n",
            "Epoch 29/30\n",
            "263/263 [==============================] - 25s 95ms/step - loss: 0.9660 - accuracy: 0.6969 - val_loss: 0.9543 - val_accuracy: 0.7143\n",
            "Epoch 30/30\n",
            "263/263 [==============================] - 19s 71ms/step - loss: 0.9367 - accuracy: 0.7073 - val_loss: 0.8858 - val_accuracy: 0.7255\n"
          ]
        }
      ],
      "source": [
        "#Fit the model\n",
        "\n",
        "tf.config.run_functions_eagerly(True)\n",
        "history = model2.fit(X_train, y_train_one_hot, epochs=30, batch_size=128, verbose=1, validation_split=0.2)"
      ]
    },
    {
      "cell_type": "code",
      "execution_count": 23,
      "metadata": {
        "id": "xbWMEtTj5Ad0",
        "colab": {
          "base_uri": "https://localhost:8080/",
          "height": 427
        },
        "outputId": "3f7b0e45-3327-48fb-8ff6-4df915d4d86e"
      },
      "outputs": [
        {
          "output_type": "stream",
          "name": "stdout",
          "text": [
            "dict_keys(['loss', 'accuracy', 'val_loss', 'val_accuracy'])\n"
          ]
        },
        {
          "output_type": "display_data",
          "data": {
            "text/plain": [
              "<Figure size 1200x400 with 2 Axes>"
            ],
            "image/png": "[encoded data removed]"
          },
          "metadata": {}
        }
      ],
      "source": [
        "# Print the history keys to see what metrics are available\n",
        "print(history.history.keys())\n",
        "\n",
        "# Plot training & validation accuracy values\n",
        "plt.figure(figsize=(12, 4))\n",
        "\n",
        "plt.subplot(1, 2, 1)\n",
        "plt.plot(history.history['accuracy'])\n",
        "plt.plot(history.history['val_accuracy'])\n",
        "plt.title('Model accuracy')\n",
        "plt.xlabel('Epoch')\n",
        "plt.ylabel('Accuracy')\n",
        "plt.legend(['Train', 'Validation'], loc='upper left')\n",
        "\n",
        "# Plot training & validation loss values\n",
        "plt.subplot(1, 2, 2)\n",
        "plt.plot(history.history['loss'])\n",
        "plt.plot(history.history['val_loss'])\n",
        "plt.title('Model loss')\n",
        "plt.xlabel('Epoch')\n",
        "plt.ylabel('Loss')\n",
        "plt.legend(['Train', 'Validation'], loc='upper left')\n",
        "\n",
        "plt.show()"
      ]
    },
    {
      "cell_type": "markdown",
      "source": [
        "**Observations: By adding additional layers of DropOut and BatchNormalization, and also changing the learning rate, accuracy improved. After 30 epochs it was 74% for both training and validation datasets, which means there is no overfitting.Loss also decreased for both training and validation data sets.Second model definetely looks promising with a room for improvement.**"
      ],
      "metadata": {
        "id": "EvShkzjud5bJ"
      }
    },
    {
      "cell_type": "markdown",
      "source": [
        "## **Predictions on the test data**\n",
        "\n",
        "- Make predictions on the test set using the second model.\n",
        "- Print the obtained results using the classification report and the confusion matrix.\n",
        "- Final observations on the obtained results."
      ],
      "metadata": {
        "id": "dXD2B45Od2o-"
      }
    },
    {
      "cell_type": "markdown",
      "metadata": {
        "id": "i3li8Ib08yts"
      },
      "source": [
        "**Note:** Earlier, we noticed that each entry of the target variable is a one-hot encoded vector but to print the classification report and confusion matrix, we must convert each entry of y_test to a single label."
      ]
    },
    {
      "cell_type": "code",
      "execution_count": 24,
      "metadata": {
        "id": "NByu7uAQ8x9P",
        "colab": {
          "base_uri": "https://localhost:8080/"
        },
        "outputId": "eb42073c-798a-4310-e932-19023936f093"
      },
      "outputs": [
        {
          "output_type": "stream",
          "name": "stdout",
          "text": [
            " 16/563 [..............................] - ETA: 3s"
          ]
        },
        {
          "output_type": "stream",
          "name": "stderr",
          "text": [
            "/usr/local/lib/python3.10/dist-packages/tensorflow/python/data/ops/structured_function.py:258: UserWarning: Even though the `tf.config.experimental_run_functions_eagerly` option is set, this option does not apply to tf.data functions. To force eager execution of tf.data functions, please use `tf.data.experimental.enable_debug_mode()`.\n",
            "  warnings.warn(\n"
          ]
        },
        {
          "output_type": "stream",
          "name": "stdout",
          "text": [
            "563/563 [==============================] - 5s 9ms/step\n"
          ]
        }
      ],
      "source": [
        "from sklearn.metrics import classification_report, confusion_matrix\n",
        "\n",
        "# Making predictions\n",
        "y_pred = model2.predict(X_test)\n",
        "\n",
        "# Convert predictions to class labels\n",
        "y_pred_labels = np.argmax(y_pred, axis=1)\n",
        "\n",
        "# Convert y_test_one_hot to class labels\n",
        "y_true_labels = np.argmax(y_test_one_hot, axis=1)\n"
      ]
    },
    {
      "cell_type": "markdown",
      "metadata": {
        "id": "1_SIoopr0XIg"
      },
      "source": [
        "### **Print the classification report and the confusion matrix for the test predictions. Write your observations on the final results.**"
      ]
    },
    {
      "cell_type": "code",
      "execution_count": 25,
      "metadata": {
        "id": "xRddeJ-3EHT1",
        "colab": {
          "base_uri": "https://localhost:8080/"
        },
        "outputId": "adf61278-2283-48d3-8643-b84cba76c95e"
      },
      "outputs": [
        {
          "output_type": "stream",
          "name": "stdout",
          "text": [
            "Classification Report:\n",
            "              precision    recall  f1-score   support\n",
            "\n",
            "           0       0.73      0.78      0.75      1814\n",
            "           1       0.74      0.75      0.75      1828\n",
            "           2       0.83      0.70      0.76      1803\n",
            "           3       0.66      0.70      0.68      1719\n",
            "           4       0.79      0.79      0.79      1812\n",
            "           5       0.66      0.72      0.69      1768\n",
            "           6       0.76      0.73      0.74      1832\n",
            "           7       0.79      0.75      0.77      1808\n",
            "           8       0.63      0.73      0.68      1812\n",
            "           9       0.77      0.65      0.71      1804\n",
            "\n",
            "    accuracy                           0.73     18000\n",
            "   macro avg       0.74      0.73      0.73     18000\n",
            "weighted avg       0.74      0.73      0.73     18000\n",
            "\n",
            "Confusion Matrix:\n",
            "[[1422   39   16   28   36   22   88   33   78   52]\n",
            " [  51 1363   17  115   65   32   25   66   65   29]\n",
            " [  28   52 1259  119   41   51   13  120   49   71]\n",
            " [  26   59   28 1200   22  197   16   47   86   38]\n",
            " [  52   53   28   23 1436   35   64   14   74   33]\n",
            " [  48   41   13   91   32 1272   67   15  155   34]\n",
            " [  85   38   15   26   95   78 1339    8  135   13]\n",
            " [  53   71   91   93   21   46   26 1349   24   34]\n",
            " [  66   54   21   50   39   86  102   15 1329   50]\n",
            " [ 130   60   29   74   34  112   26   32  128 1179]]\n"
          ]
        }
      ],
      "source": [
        "# Print classification report\n",
        "print(\"Classification Report:\")\n",
        "print(classification_report(y_true_labels, y_pred_labels))\n",
        "\n",
        "# Print confusion matrix\n",
        "print(\"Confusion Matrix:\")\n",
        "print(confusion_matrix(y_true_labels, y_pred_labels))"
      ]
    },
    {
      "cell_type": "markdown",
      "metadata": {
        "id": "DjErl4GA2u9s"
      },
      "source": [
        "**Final Observations: Model's F1 score, recall and precision to predict numbers 0, 4 and 7 was higher between ~77%-~80%. F1 score was lower for identifying classes 5, 3 and 8 ranging from 65% to 69%.\n",
        "Looking at confusion matrix, we can tell the most confused number was number 7 as 2 or 1 121, 106 cases respectively. 5 was misinterpreted in 197 cases out of 1768. Third most mistaken digit is 9. It was identified as number 6 124 times out of  cases.**"
      ]
    },
    {
      "cell_type": "markdown",
      "metadata": {
        "id": "xkR4JioMsuIV"
      },
      "source": [
        "## **Using Convolutional Neural Networks**"
      ]
    },
    {
      "cell_type": "markdown",
      "metadata": {
        "id": "YN2YgkGL_6xQ"
      },
      "source": [
        "### **Load the dataset again and split the data into the train and the test dataset.**"
      ]
    },
    {
      "cell_type": "code",
      "execution_count": 26,
      "metadata": {
        "id": "mqM204HbAjP2",
        "scrolled": true,
        "colab": {
          "base_uri": "https://localhost:8080/"
        },
        "outputId": "1c36096f-143e-452f-8777-177051bf08a6"
      },
      "outputs": [
        {
          "output_type": "stream",
          "name": "stdout",
          "text": [
            "Keys in HDF5 file: ['X_test', 'X_train', 'X_val', 'y_test', 'y_train', 'y_val']\n",
            "Dataset: X_test\n",
            "Dataset: X_train\n",
            "Dataset: X_val\n",
            "Dataset: y_test\n",
            "Dataset: y_train\n",
            "Dataset: y_val\n",
            "Dataset shape: (42000, 32, 32)\n",
            "Dataset type: float32\n",
            "Example data points: [[[ 33.0704  30.2601  26.852  ...  71.4471  58.2204  42.9939]\n",
            "  [ 25.2283  25.5533  29.9765 ... 113.0209 103.3639  84.2949]\n",
            "  [ 26.2775  22.6137  40.4763 ... 113.3028 121.775  115.4228]\n",
            "  ...\n",
            "  [ 28.5502  36.212   45.0801 ...  24.1359  25.0927  26.0603]\n",
            "  [ 38.4352  26.4733  23.2717 ...  28.1094  29.4683  30.0661]\n",
            "  [ 50.2984  26.0773  24.0389 ...  49.6682  50.853   53.0377]]\n",
            "\n",
            " [[ 86.9591  87.0685  88.3735 ...  91.8014  89.7477  92.5302]\n",
            "  [ 86.688   86.9114  87.4337 ...  90.7306  87.204   88.5629]\n",
            "  [ 85.9654  85.8145  85.9239 ...  63.8626  59.8199  54.8805]\n",
            "  ...\n",
            "  [ 90.2236  91.0448  93.4637 ...  55.3535  48.5822  44.0557]\n",
            "  [ 90.6427  90.4039  90.937  ...  78.2696  77.4977  74.27  ]\n",
            "  [ 88.0236  88.1977  86.6709 ...  75.2206  76.6396  79.2865]]\n",
            "\n",
            " [[123.125  125.8581 122.0757 ... 123.5747 124.1186 123.3144]\n",
            "  [121.1683 124.1294 117.4613 ... 115.6078 119.5751 122.8306]\n",
            "  [124.6132 121.1019 109.6623 ... 111.1783 119.7923 124.7595]\n",
            "  ...\n",
            "  [135.1391 127.3679 117.754  ...  95.0919 105.5917 114.9283]\n",
            "  [134.8402 131.9545 124.0415 ...  93.864  105.3036 115.1132]\n",
            "  [134.8402 132.0685 128.34   ...  93.9349 104.7875 113.8252]]\n",
            "\n",
            " [[147.6196 139.6204 142.6201 ... 151.1631 151.8641 148.8644]\n",
            "  [146.6197 137.6206 140.9084 ... 151.1631 149.8643 150.8642]\n",
            "  [145.6198 136.9088 139.9085 ... 151.8641 150.8642 151.8641]\n",
            "  ...\n",
            "  [106.1785  99.2393 101.5981 ... 157.9021 156.8914 156.8914]\n",
            "  [111.879  112.238  113.0099 ... 157.1302 156.8914 157.1795]\n",
            "  [122.8779 127.2365 128.2364 ... 157.1194 157.1795 157.1795]]\n",
            "\n",
            " [[153.989  155.1783 157.4276 ... 102.065  117.9171 129.0578]\n",
            "  [160.1024 159.694  157.6556 ...  98.7664 114.2056 122.4714]\n",
            "  [161.6292 160.3349 154.9979 ...  96.2828 108.4943 115.7602]\n",
            "  ...\n",
            "  [169.6993 165.4978 154.4603 ...  54.1544  58.2033  65.3767]\n",
            "  [172.699  168.4975 158.047  ...  46.867   51.6169  61.1491]\n",
            "  [176.6986 172.4971 160.6877 ...  45.693   48.6172  58.1494]]]\n"
          ]
        }
      ],
      "source": [
        "# File path in Google Drive\n",
        "file_path = '/content/drive/MyDrive/Python Course/SVHN_single_grey1.h5'\n",
        "\n",
        "# Open the HDF5 file\n",
        "with h5py.File(file_path, 'r') as hdf:\n",
        "    # List all groups in the HDF5 file\n",
        "    print(\"Keys in HDF5 file:\", list(hdf.keys()))\n",
        "\n",
        "    # Check for the correct dataset name\n",
        "    for key in hdf.keys():\n",
        "        print(\"Dataset:\", key)\n",
        "\n",
        "    # Access a specific dataset\n",
        "    dataset_name = 'X_train'\n",
        "    dataset = hdf[dataset_name][:]\n",
        "\n",
        "    # Print dataset information\n",
        "    print(\"Dataset shape:\", dataset.shape)\n",
        "    print(\"Dataset type:\", dataset.dtype)\n",
        "\n",
        "    # Print some data points\n",
        "    print(\"Example data points:\", dataset[:5])"
      ]
    },
    {
      "cell_type": "markdown",
      "metadata": {
        "id": "6fPqF_xGAjQB"
      },
      "source": [
        "Check the number of images in the training and the testing dataset."
      ]
    },
    {
      "cell_type": "code",
      "execution_count": 34,
      "metadata": {
        "id": "gTLJZWjPAjQB",
        "colab": {
          "base_uri": "https://localhost:8080/"
        },
        "outputId": "3da3fc40-ffa2-4ca2-ee02-5121d4e07d1e"
      },
      "outputs": [
        {
          "output_type": "stream",
          "name": "stdout",
          "text": [
            "Training dataset shape: (42000, 32, 32)\n",
            "Image count in training dataset: 42000\n",
            "Testing dataset shape: (18000, 32, 32)\n",
            "Image count in testing dataset: 18000\n"
          ]
        }
      ],
      "source": [
        "with h5py.File(file_path, 'r') as hdf:\n",
        "  X_train = hdf['X_train']\n",
        "  print(f\"Training dataset shape: {X_train.shape}\")\n",
        "  print(f\"Image count in training dataset: {X_train.shape[0]}\")\n",
        "\n",
        "  X_test = hdf['X_test']\n",
        "  print(f\"Testing dataset shape: {X_test.shape}\")\n",
        "  print(f\"Image count in testing dataset: {X_test.shape[0]}\")\n"
      ]
    },
    {
      "cell_type": "markdown",
      "metadata": {
        "id": "9qyMiP_rAjQB"
      },
      "source": [
        "**Observation:**\n"
      ]
    },
    {
      "cell_type": "markdown",
      "metadata": {
        "id": "OJndFfEVAjQG"
      },
      "source": [
        "## **Data preparation**\n",
        "\n",
        "- Print the shape and the array of pixels for the first image in the training dataset.\n",
        "- Reshape the train and the test dataset because we always have to give a 4D array as input to CNNs.\n",
        "- Normalize the train and the test dataset by dividing by 255.\n",
        "- Print the new shapes of the train and the test dataset.\n",
        "- One-hot encode the target variable."
      ]
    },
    {
      "cell_type": "code",
      "execution_count": 35,
      "metadata": {
        "id": "W4uXqKz1AjQG",
        "colab": {
          "base_uri": "https://localhost:8080/"
        },
        "outputId": "7fc09383-ca37-4168-858a-5e60ee6cb23f"
      },
      "outputs": [
        {
          "output_type": "stream",
          "name": "stdout",
          "text": [
            "First image of training dataset: (32, 32)\n",
            "Array of pixels for the first image: \n",
            "[[ 33.0704  30.2601  26.852  ...  71.4471  58.2204  42.9939]\n",
            " [ 25.2283  25.5533  29.9765 ... 113.0209 103.3639  84.2949]\n",
            " [ 26.2775  22.6137  40.4763 ... 113.3028 121.775  115.4228]\n",
            " ...\n",
            " [ 28.5502  36.212   45.0801 ...  24.1359  25.0927  26.0603]\n",
            " [ 38.4352  26.4733  23.2717 ...  28.1094  29.4683  30.0661]\n",
            " [ 50.2984  26.0773  24.0389 ...  49.6682  50.853   53.0377]]\n"
          ]
        }
      ],
      "source": [
        "with h5py.File(file_path, 'r') as hdf:\n",
        "\n",
        "    # Access the training dataset\n",
        "    X_train = hdf['X_train'][:]\n",
        "    X_test = hdf['X_test'][:]\n",
        "\n",
        "#Print the shape and the array of pixels for the first image in the training dataset.\n",
        "print(f\"First image of training dataset: {X_train[0].shape}\")\n",
        "print(f\"Array of pixels for the first image: \\n{X_train[0]}\")\n"
      ]
    },
    {
      "cell_type": "markdown",
      "metadata": {
        "id": "at30iiX1__7F"
      },
      "source": [
        "Reshape the dataset to be able to pass them to CNNs. Remember that we always have to give a 4D array as input to CNNs"
      ]
    },
    {
      "cell_type": "code",
      "execution_count": 36,
      "metadata": {
        "id": "D9YPwf9ysqWU",
        "colab": {
          "base_uri": "https://localhost:8080/"
        },
        "outputId": "7167ba85-7940-4862-fbe9-eafb5d113c13"
      },
      "outputs": [
        {
          "output_type": "stream",
          "name": "stdout",
          "text": [
            "X_train shape: (42000, 32, 32, 1)\n",
            "X_test shape: (18000, 32, 32, 1)\n"
          ]
        }
      ],
      "source": [
        "# Reshape to (num_samples, height, width, channels)\n",
        "X_train = X_train.reshape(-1, 32, 32, 1)\n",
        "X_test = X_test.reshape(-1, 32, 32, 1)\n",
        "\n",
        "print(\"X_train shape:\", X_train.shape)\n",
        "print(\"X_test shape:\", X_test.shape)\n"
      ]
    },
    {
      "cell_type": "markdown",
      "metadata": {
        "id": "ODYnoLfaAEGx"
      },
      "source": [
        "Normalize inputs from 0-255 to 0-1"
      ]
    },
    {
      "cell_type": "code",
      "execution_count": 37,
      "metadata": {
        "id": "eOGLAn40AjQG",
        "colab": {
          "base_uri": "https://localhost:8080/"
        },
        "outputId": "993cadc4-5b9a-43fd-f7dc-9ae6d4411744"
      },
      "outputs": [
        {
          "output_type": "stream",
          "name": "stdout",
          "text": [
            "First image of training dataset: (32, 32, 1)\n",
            "Array of pixels for the first image: \n",
            "[[[0.12968785]\n",
            "  [0.11866706]\n",
            "  [0.10530196]\n",
            "  ...\n",
            "  [0.2801847 ]\n",
            "  [0.2283153 ]\n",
            "  [0.16860352]]\n",
            "\n",
            " [[0.09893451]\n",
            "  [0.10020902]\n",
            "  [0.1175549 ]\n",
            "  ...\n",
            "  [0.4432192 ]\n",
            "  [0.40534863]\n",
            "  [0.33056822]]\n",
            "\n",
            " [[0.10304902]\n",
            "  [0.08868118]\n",
            "  [0.15873058]\n",
            "  ...\n",
            "  [0.44432473]\n",
            "  [0.47754902]\n",
            "  [0.45263842]]\n",
            "\n",
            " ...\n",
            "\n",
            " [[0.11196157]\n",
            "  [0.14200786]\n",
            "  [0.17678471]\n",
            "  ...\n",
            "  [0.09465059]\n",
            "  [0.09840274]\n",
            "  [0.10219726]]\n",
            "\n",
            " [[0.15072627]\n",
            "  [0.10381687]\n",
            "  [0.09126157]\n",
            "  ...\n",
            "  [0.11023294]\n",
            "  [0.11556196]\n",
            "  [0.11790627]]\n",
            "\n",
            " [[0.19724864]\n",
            "  [0.10226392]\n",
            "  [0.0942702 ]\n",
            "  ...\n",
            "  [0.19477727]\n",
            "  [0.19942354]\n",
            "  [0.20799099]]]\n"
          ]
        }
      ],
      "source": [
        "#Normalize the train and the test dataset by dividing by 255\n",
        "X_train_normalized = X_train/255.0\n",
        "X_test_normalized = X_test/255.0\n",
        "\n",
        "print(f\"First image of training dataset: {X_train_normalized[0].shape}\")\n",
        "print(f\"Array of pixels for the first image: \\n{X_train_normalized[0]}\")"
      ]
    },
    {
      "cell_type": "markdown",
      "metadata": {
        "id": "cS9T4HqjAoyM"
      },
      "source": [
        "Print New shape of Training and Test"
      ]
    },
    {
      "cell_type": "code",
      "execution_count": 38,
      "metadata": {
        "id": "5qf8S5NQAjQG",
        "colab": {
          "base_uri": "https://localhost:8080/"
        },
        "outputId": "14d8ccae-21e3-49aa-fff5-e632ec7dfe7a"
      },
      "outputs": [
        {
          "output_type": "stream",
          "name": "stdout",
          "text": [
            "Training dataset shape: 42000\n",
            "Test dataset shape: 18000\n"
          ]
        }
      ],
      "source": [
        "print(f\"Training dataset shape: {X_train_normalized.shape[0]}\")\n",
        "print(f\"Test dataset shape: {X_test_normalized.shape[0]}\")"
      ]
    },
    {
      "cell_type": "markdown",
      "metadata": {
        "id": "10QaOV-xR7Jn"
      },
      "source": [
        "### **One-hot encode the labels in the target variable y_train and y_test.**"
      ]
    },
    {
      "cell_type": "code",
      "execution_count": 39,
      "metadata": {
        "id": "3KHWFWKMAjQH",
        "colab": {
          "base_uri": "https://localhost:8080/"
        },
        "outputId": "b820d2e8-4219-4257-e037-2cc6ea1dc997"
      },
      "outputs": [
        {
          "output_type": "stream",
          "name": "stdout",
          "text": [
            "Shape of y_train_one_hot: (42000, 10)\n",
            "Shape of y_test_one_hot: (18000, 10)\n",
            "First 5 one-hot encoded labels (y_train):\n",
            "[[0. 0. 1. 0. 0. 0. 0. 0. 0. 0.]\n",
            " [0. 0. 0. 0. 0. 0. 1. 0. 0. 0.]\n",
            " [0. 0. 0. 0. 0. 0. 0. 1. 0. 0.]\n",
            " [0. 0. 0. 0. 1. 0. 0. 0. 0. 0.]\n",
            " [0. 0. 0. 0. 1. 0. 0. 0. 0. 0.]]\n"
          ]
        }
      ],
      "source": [
        "from tensorflow.keras.utils import to_categorical\n",
        "\n",
        "with h5py.File(file_path, 'r') as hdf:\n",
        "    # Access the labels\n",
        "    y_train = hdf['y_train'][:]\n",
        "    y_test = hdf['y_test'][:]\n",
        "\n",
        "    # Perform one-hot encoding on the labels\n",
        "    y_train_one_hot = to_categorical(y_train)\n",
        "    y_test_one_hot = to_categorical(y_test)\n",
        "\n",
        "    # Print the shape of the one-hot encoded labels\n",
        "    print(f\"Shape of y_train_one_hot: {y_train_one_hot.shape}\")\n",
        "    print(f\"Shape of y_test_one_hot: {y_test_one_hot.shape}\")\n",
        "\n",
        "    # Print the first 5 one-hot encoded labels for verification\n",
        "    print(\"First 5 one-hot encoded labels (y_train):\")\n",
        "    print(y_train_one_hot[:5])"
      ]
    },
    {
      "cell_type": "markdown",
      "metadata": {
        "id": "H-8jYVQTAjQH"
      },
      "source": [
        "**Observation:**\n",
        "Training dataset contains 42K samples and test dataset has 18K. Data has been normalized and preprocessed and ready for CNN modeling. Each image is 32x32 pixel, float type."
      ]
    },
    {
      "cell_type": "markdown",
      "metadata": {
        "id": "Vjx_LI4_AjQH"
      },
      "source": [
        "## **Model Building**\n",
        "\n",
        "Now that we have done data preprocessing, let's build a CNN model.\n",
        "Fix the seed for random number generators"
      ]
    },
    {
      "cell_type": "code",
      "execution_count": 40,
      "metadata": {
        "id": "ZY5pyF4-KDNt",
        "colab": {
          "base_uri": "https://localhost:8080/"
        },
        "outputId": "2442d410-8c86-4502-f9ea-8e69fff38ba5"
      },
      "outputs": [
        {
          "output_type": "stream",
          "name": "stdout",
          "text": [
            "0.3745401188473625\n"
          ]
        }
      ],
      "source": [
        " #setting a set for reproducibility\n",
        "np.random.seed(42)\n",
        "\n",
        "#generating a random number as an example\n",
        "print(np.random.random())"
      ]
    },
    {
      "cell_type": "markdown",
      "metadata": {
        "id": "1JUAczhzAjQH"
      },
      "source": [
        "### **Model Architecture**\n",
        "- **Write a function** that returns a sequential model with the following architecture:\n",
        " - First Convolutional layer with **16 filters and the kernel size of 3x3**. Use the **'same' padding** and provide the **input shape = (32, 32, 1)**\n",
        " - Add a **LeakyRelu layer** with the **slope equal to 0.1**\n",
        " - Second Convolutional layer with **32 filters and the kernel size of 3x3 with 'same' padding**\n",
        " - Another **LeakyRelu** with the **slope equal to 0.1**\n",
        " - A **max-pooling layer** with a **pool size of 2x2**\n",
        " - **Flatten** the output from the previous layer\n",
        " - Add a **dense layer with 32 nodes**\n",
        " - Add a **LeakyRelu layer with the slope equal to 0.1**\n",
        " - Add the final **output layer with nodes equal to the number of classes, i.e., 10** and **'softmax' as the activation function**\n",
        " - Compile the model with the **loss equal to categorical_crossentropy, optimizer equal to Adam(learning_rate = 0.001), and metric equal to 'accuracy'**. Do not fit the model here, just return the compiled model.\n",
        "- Call the function cnn_model_1 and store the output in a new variable.\n",
        "- Print the summary of the model.\n",
        "- Fit the model on the training data with a **validation split of 0.2, batch size = 32, verbose = 1, and epochs = 20**. Store the model building history to use later for visualization."
      ]
    },
    {
      "cell_type": "markdown",
      "metadata": {
        "id": "JWsAd45JKDNu"
      },
      "source": [
        "### **Build and train a CNN model as per the above mentioned architecture.**"
      ]
    },
    {
      "cell_type": "code",
      "source": [
        "!pip install tensorflow"
      ],
      "metadata": {
        "colab": {
          "base_uri": "https://localhost:8080/"
        },
        "id": "9cABeRH0_72Z",
        "outputId": "7de7a484-7b73-40be-8d21-b0d03ea92520"
      },
      "execution_count": 41,
      "outputs": [
        {
          "output_type": "stream",
          "name": "stdout",
          "text": [
            "Requirement already satisfied: tensorflow in /usr/local/lib/python3.10/dist-packages (2.15.0)\n",
            "Requirement already satisfied: absl-py>=1.0.0 in /usr/local/lib/python3.10/dist-packages (from tensorflow) (1.4.0)\n",
            "Requirement already satisfied: astunparse>=1.6.0 in /usr/local/lib/python3.10/dist-packages (from tensorflow) (1.6.3)\n",
            "Requirement already satisfied: flatbuffers>=23.5.26 in /usr/local/lib/python3.10/dist-packages (from tensorflow) (24.3.25)\n",
            "Requirement already satisfied: gast!=0.5.0,!=0.5.1,!=0.5.2,>=0.2.1 in /usr/local/lib/python3.10/dist-packages (from tensorflow) (0.5.4)\n",
            "Requirement already satisfied: google-pasta>=0.1.1 in /usr/local/lib/python3.10/dist-packages (from tensorflow) (0.2.0)\n",
            "Requirement already satisfied: h5py>=2.9.0 in /usr/local/lib/python3.10/dist-packages (from tensorflow) (3.9.0)\n",
            "Requirement already satisfied: libclang>=13.0.0 in /usr/local/lib/python3.10/dist-packages (from tensorflow) (18.1.1)\n",
            "Requirement already satisfied: ml-dtypes~=0.2.0 in /usr/local/lib/python3.10/dist-packages (from tensorflow) (0.2.0)\n",
            "Requirement already satisfied: numpy<2.0.0,>=1.23.5 in /usr/local/lib/python3.10/dist-packages (from tensorflow) (1.25.2)\n",
            "Requirement already satisfied: opt-einsum>=2.3.2 in /usr/local/lib/python3.10/dist-packages (from tensorflow) (3.3.0)\n",
            "Requirement already satisfied: packaging in /usr/local/lib/python3.10/dist-packages (from tensorflow) (24.0)\n",
            "Requirement already satisfied: protobuf!=4.21.0,!=4.21.1,!=4.21.2,!=4.21.3,!=4.21.4,!=4.21.5,<5.0.0dev,>=3.20.3 in /usr/local/lib/python3.10/dist-packages (from tensorflow) (3.20.3)\n",
            "Requirement already satisfied: setuptools in /usr/local/lib/python3.10/dist-packages (from tensorflow) (67.7.2)\n",
            "Requirement already satisfied: six>=1.12.0 in /usr/local/lib/python3.10/dist-packages (from tensorflow) (1.16.0)\n",
            "Requirement already satisfied: termcolor>=1.1.0 in /usr/local/lib/python3.10/dist-packages (from tensorflow) (2.4.0)\n",
            "Requirement already satisfied: typing-extensions>=3.6.6 in /usr/local/lib/python3.10/dist-packages (from tensorflow) (4.11.0)\n",
            "Requirement already satisfied: wrapt<1.15,>=1.11.0 in /usr/local/lib/python3.10/dist-packages (from tensorflow) (1.14.1)\n",
            "Requirement already satisfied: tensorflow-io-gcs-filesystem>=0.23.1 in /usr/local/lib/python3.10/dist-packages (from tensorflow) (0.37.0)\n",
            "Requirement already satisfied: grpcio<2.0,>=1.24.3 in /usr/local/lib/python3.10/dist-packages (from tensorflow) (1.64.0)\n",
            "Requirement already satisfied: tensorboard<2.16,>=2.15 in /usr/local/lib/python3.10/dist-packages (from tensorflow) (2.15.2)\n",
            "Requirement already satisfied: tensorflow-estimator<2.16,>=2.15.0 in /usr/local/lib/python3.10/dist-packages (from tensorflow) (2.15.0)\n",
            "Requirement already satisfied: keras<2.16,>=2.15.0 in /usr/local/lib/python3.10/dist-packages (from tensorflow) (2.15.0)\n",
            "Requirement already satisfied: wheel<1.0,>=0.23.0 in /usr/local/lib/python3.10/dist-packages (from astunparse>=1.6.0->tensorflow) (0.43.0)\n",
            "Requirement already satisfied: google-auth<3,>=1.6.3 in /usr/local/lib/python3.10/dist-packages (from tensorboard<2.16,>=2.15->tensorflow) (2.27.0)\n",
            "Requirement already satisfied: google-auth-oauthlib<2,>=0.5 in /usr/local/lib/python3.10/dist-packages (from tensorboard<2.16,>=2.15->tensorflow) (1.2.0)\n",
            "Requirement already satisfied: markdown>=2.6.8 in /usr/local/lib/python3.10/dist-packages (from tensorboard<2.16,>=2.15->tensorflow) (3.6)\n",
            "Requirement already satisfied: requests<3,>=2.21.0 in /usr/local/lib/python3.10/dist-packages (from tensorboard<2.16,>=2.15->tensorflow) (2.31.0)\n",
            "Requirement already satisfied: tensorboard-data-server<0.8.0,>=0.7.0 in /usr/local/lib/python3.10/dist-packages (from tensorboard<2.16,>=2.15->tensorflow) (0.7.2)\n",
            "Requirement already satisfied: werkzeug>=1.0.1 in /usr/local/lib/python3.10/dist-packages (from tensorboard<2.16,>=2.15->tensorflow) (3.0.3)\n",
            "Requirement already satisfied: cachetools<6.0,>=2.0.0 in /usr/local/lib/python3.10/dist-packages (from google-auth<3,>=1.6.3->tensorboard<2.16,>=2.15->tensorflow) (5.3.3)\n",
            "Requirement already satisfied: pyasn1-modules>=0.2.1 in /usr/local/lib/python3.10/dist-packages (from google-auth<3,>=1.6.3->tensorboard<2.16,>=2.15->tensorflow) (0.4.0)\n",
            "Requirement already satisfied: rsa<5,>=3.1.4 in /usr/local/lib/python3.10/dist-packages (from google-auth<3,>=1.6.3->tensorboard<2.16,>=2.15->tensorflow) (4.9)\n",
            "Requirement already satisfied: requests-oauthlib>=0.7.0 in /usr/local/lib/python3.10/dist-packages (from google-auth-oauthlib<2,>=0.5->tensorboard<2.16,>=2.15->tensorflow) (1.3.1)\n",
            "Requirement already satisfied: charset-normalizer<4,>=2 in /usr/local/lib/python3.10/dist-packages (from requests<3,>=2.21.0->tensorboard<2.16,>=2.15->tensorflow) (3.3.2)\n",
            "Requirement already satisfied: idna<4,>=2.5 in /usr/local/lib/python3.10/dist-packages (from requests<3,>=2.21.0->tensorboard<2.16,>=2.15->tensorflow) (3.7)\n",
            "Requirement already satisfied: urllib3<3,>=1.21.1 in /usr/local/lib/python3.10/dist-packages (from requests<3,>=2.21.0->tensorboard<2.16,>=2.15->tensorflow) (2.0.7)\n",
            "Requirement already satisfied: certifi>=2017.4.17 in /usr/local/lib/python3.10/dist-packages (from requests<3,>=2.21.0->tensorboard<2.16,>=2.15->tensorflow) (2024.2.2)\n",
            "Requirement already satisfied: MarkupSafe>=2.1.1 in /usr/local/lib/python3.10/dist-packages (from werkzeug>=1.0.1->tensorboard<2.16,>=2.15->tensorflow) (2.1.5)\n",
            "Requirement already satisfied: pyasn1<0.7.0,>=0.4.6 in /usr/local/lib/python3.10/dist-packages (from pyasn1-modules>=0.2.1->google-auth<3,>=1.6.3->tensorboard<2.16,>=2.15->tensorflow) (0.6.0)\n",
            "Requirement already satisfied: oauthlib>=3.0.0 in /usr/local/lib/python3.10/dist-packages (from requests-oauthlib>=0.7.0->google-auth-oauthlib<2,>=0.5->tensorboard<2.16,>=2.15->tensorflow) (3.2.2)\n"
          ]
        }
      ]
    },
    {
      "cell_type": "code",
      "execution_count": 42,
      "metadata": {
        "id": "L1jOYANWAjQH",
        "colab": {
          "base_uri": "https://localhost:8080/"
        },
        "outputId": "7a13ac4d-749a-48ac-ffa2-ecfb50a50c22"
      },
      "outputs": [
        {
          "output_type": "stream",
          "name": "stdout",
          "text": [
            "Model: \"sequential_1\"\n",
            "_________________________________________________________________\n",
            " Layer (type)                Output Shape              Param #   \n",
            "=================================================================\n",
            " conv2d (Conv2D)             (None, 32, 32, 16)        160       \n",
            "                                                                 \n",
            " leaky_re_lu (LeakyReLU)     (None, 32, 32, 16)        0         \n",
            "                                                                 \n",
            " conv2d_1 (Conv2D)           (None, 32, 32, 32)        4640      \n",
            "                                                                 \n",
            " leaky_re_lu_1 (LeakyReLU)   (None, 32, 32, 32)        0         \n",
            "                                                                 \n",
            " max_pooling2d (MaxPooling2  (None, 16, 16, 32)        0         \n",
            " D)                                                              \n",
            "                                                                 \n",
            " flatten_1 (Flatten)         (None, 8192)              0         \n",
            "                                                                 \n",
            " dense_5 (Dense)             (None, 32)                262176    \n",
            "                                                                 \n",
            " leaky_re_lu_2 (LeakyReLU)   (None, 32)                0         \n",
            "                                                                 \n",
            " dense_6 (Dense)             (None, 10)                330       \n",
            "                                                                 \n",
            "=================================================================\n",
            "Total params: 267306 (1.02 MB)\n",
            "Trainable params: 267306 (1.02 MB)\n",
            "Non-trainable params: 0 (0.00 Byte)\n",
            "_________________________________________________________________\n",
            "Epoch 1/20\n"
          ]
        },
        {
          "output_type": "stream",
          "name": "stderr",
          "text": [
            "/usr/local/lib/python3.10/dist-packages/tensorflow/python/data/ops/structured_function.py:258: UserWarning: Even though the `tf.config.experimental_run_functions_eagerly` option is set, this option does not apply to tf.data functions. To force eager execution of tf.data functions, please use `tf.data.experimental.enable_debug_mode()`.\n",
            "  warnings.warn(\n"
          ]
        },
        {
          "output_type": "stream",
          "name": "stdout",
          "text": [
            "1050/1050 [==============================] - 133s 127ms/step - loss: 1.7079 - accuracy: 0.6012 - val_loss: 0.9179 - val_accuracy: 0.7362\n",
            "Epoch 2/20\n",
            "1050/1050 [==============================] - 125s 119ms/step - loss: 0.6365 - accuracy: 0.8154 - val_loss: 0.6618 - val_accuracy: 0.8120\n",
            "Epoch 3/20\n",
            "1050/1050 [==============================] - 121s 115ms/step - loss: 0.5470 - accuracy: 0.8382 - val_loss: 0.5899 - val_accuracy: 0.8354\n",
            "Epoch 4/20\n",
            "1050/1050 [==============================] - 120s 114ms/step - loss: 0.4854 - accuracy: 0.8573 - val_loss: 0.6471 - val_accuracy: 0.8123\n",
            "Epoch 5/20\n",
            "1050/1050 [==============================] - 158s 151ms/step - loss: 0.4457 - accuracy: 0.8679 - val_loss: 0.5969 - val_accuracy: 0.8383\n",
            "Epoch 6/20\n",
            "1050/1050 [==============================] - 145s 138ms/step - loss: 0.4034 - accuracy: 0.8803 - val_loss: 0.5435 - val_accuracy: 0.8598\n",
            "Epoch 7/20\n",
            "1050/1050 [==============================] - 140s 134ms/step - loss: 0.3698 - accuracy: 0.8898 - val_loss: 0.6227 - val_accuracy: 0.8413\n",
            "Epoch 8/20\n",
            "1050/1050 [==============================] - 158s 151ms/step - loss: 0.3465 - accuracy: 0.8952 - val_loss: 0.6551 - val_accuracy: 0.8419\n",
            "Epoch 9/20\n",
            "1050/1050 [==============================] - 122s 116ms/step - loss: 0.3273 - accuracy: 0.9012 - val_loss: 0.5918 - val_accuracy: 0.8518\n",
            "Epoch 10/20\n",
            "1050/1050 [==============================] - 123s 117ms/step - loss: 0.2895 - accuracy: 0.9123 - val_loss: 0.5861 - val_accuracy: 0.8485\n",
            "Epoch 11/20\n",
            "1050/1050 [==============================] - 120s 114ms/step - loss: 0.2717 - accuracy: 0.9162 - val_loss: 0.7078 - val_accuracy: 0.8512\n",
            "Epoch 12/20\n",
            "1050/1050 [==============================] - 120s 114ms/step - loss: 0.2446 - accuracy: 0.9230 - val_loss: 0.6973 - val_accuracy: 0.8593\n",
            "Epoch 13/20\n",
            "1050/1050 [==============================] - 133s 127ms/step - loss: 0.2297 - accuracy: 0.9286 - val_loss: 0.7638 - val_accuracy: 0.8380\n",
            "Epoch 14/20\n",
            "1050/1050 [==============================] - 118s 113ms/step - loss: 0.2200 - accuracy: 0.9313 - val_loss: 0.7089 - val_accuracy: 0.8606\n",
            "Epoch 15/20\n",
            "1050/1050 [==============================] - 120s 114ms/step - loss: 0.1944 - accuracy: 0.9382 - val_loss: 0.8343 - val_accuracy: 0.8581\n",
            "Epoch 16/20\n",
            "1050/1050 [==============================] - 120s 114ms/step - loss: 0.2033 - accuracy: 0.9377 - val_loss: 0.7645 - val_accuracy: 0.8560\n",
            "Epoch 17/20\n",
            "1050/1050 [==============================] - 123s 117ms/step - loss: 0.1833 - accuracy: 0.9421 - val_loss: 0.7726 - val_accuracy: 0.8563\n",
            "Epoch 18/20\n",
            "1050/1050 [==============================] - 124s 119ms/step - loss: 0.1666 - accuracy: 0.9482 - val_loss: 0.8880 - val_accuracy: 0.8496\n",
            "Epoch 19/20\n",
            "1050/1050 [==============================] - 125s 119ms/step - loss: 0.1663 - accuracy: 0.9477 - val_loss: 0.8029 - val_accuracy: 0.8546\n",
            "Epoch 20/20\n",
            "1050/1050 [==============================] - 124s 118ms/step - loss: 0.1570 - accuracy: 0.9496 - val_loss: 0.8857 - val_accuracy: 0.8612\n"
          ]
        }
      ],
      "source": [
        "from tensorflow.keras.models import Sequential\n",
        "from tensorflow.keras.layers import Conv2D, LeakyReLU, MaxPooling2D, Flatten, Dense\n",
        "from tensorflow.keras.optimizers import Adam\n",
        "\n",
        "def cnn_model_1(input_shape=(32, 32, 1), num_classes=10):\n",
        "    model = Sequential()\n",
        "\n",
        "    # First Convolutional layer with LeakyReLU activation\n",
        "    model.add(Conv2D(filters=16, kernel_size=(3, 3), padding='same', input_shape=input_shape))\n",
        "    model.add(LeakyReLU(alpha=0.1))\n",
        "\n",
        "    # Second Convolutional layer with LeakyReLU activation\n",
        "    model.add(Conv2D(filters=32, kernel_size=(3, 3), padding='same'))\n",
        "    model.add(LeakyReLU(alpha=0.1))\n",
        "\n",
        "    # MaxPooling layer\n",
        "    model.add(MaxPooling2D(pool_size=(2, 2)))\n",
        "\n",
        "    # Flatten the output from the previous layer\n",
        "    model.add(Flatten())\n",
        "\n",
        "    # Dense layer with LeakyReLU activation\n",
        "    model.add(Dense(units=32))\n",
        "    model.add(LeakyReLU(alpha=0.1))\n",
        "\n",
        "    # Output layer with softmax activation\n",
        "    model.add(Dense(units=num_classes, activation='softmax'))\n",
        "\n",
        "    # Compile the model\n",
        "    model.compile(optimizer=Adam(learning_rate=0.001),\n",
        "                  loss='categorical_crossentropy',\n",
        "                  metrics=['accuracy'])\n",
        "\n",
        "    return model\n",
        "\n",
        "# Create the model and print the summary\n",
        "model = cnn_model_1()\n",
        "model.summary()\n",
        "\n",
        "# Assuming X_train and y_train_one_hot are already defined\n",
        "history = model.fit(X_train, y_train_one_hot, epochs=20, batch_size=32, verbose=1, validation_split=0.2)\n"
      ]
    },
    {
      "cell_type": "markdown",
      "metadata": {
        "id": "JPzfIf9kKDNw"
      },
      "source": [
        "### **Plot the Training and Validation Accuracies and Write your observations.**"
      ]
    },
    {
      "cell_type": "code",
      "execution_count": 43,
      "metadata": {
        "id": "07oUCr1kAjQH",
        "colab": {
          "base_uri": "https://localhost:8080/",
          "height": 427
        },
        "outputId": "845d9414-b06d-4b35-f35b-a277c2b91207"
      },
      "outputs": [
        {
          "output_type": "stream",
          "name": "stdout",
          "text": [
            "dict_keys(['loss', 'accuracy', 'val_loss', 'val_accuracy'])\n"
          ]
        },
        {
          "output_type": "display_data",
          "data": {
            "text/plain": [
              "<Figure size 1200x400 with 2 Axes>"
            ],
            "image/png": "[encoded data removed]"
          },
          "metadata": {}
        }
      ],
      "source": [
        "# Print the history keys to see what metrics are available\n",
        "print(history.history.keys())\n",
        "\n",
        "# Plot training & validation accuracy values\n",
        "plt.figure(figsize=(12, 4))\n",
        "\n",
        "plt.subplot(1, 2, 1)\n",
        "plt.plot(history.history['accuracy'])\n",
        "plt.plot(history.history['val_accuracy'])\n",
        "plt.title('Model accuracy')\n",
        "plt.xlabel('Epoch')\n",
        "plt.ylabel('Accuracy')\n",
        "plt.legend(['Train', 'Validation'], loc='upper left')\n",
        "\n",
        "# Plot training & validation loss values\n",
        "plt.subplot(1, 2, 2)\n",
        "plt.plot(history.history['loss'])\n",
        "plt.plot(history.history['val_loss'])\n",
        "plt.title('Model loss')\n",
        "plt.xlabel('Epoch')\n",
        "plt.ylabel('Loss')\n",
        "plt.legend(['Train', 'Validation'], loc='upper left')\n",
        "\n",
        "plt.show()"
      ]
    },
    {
      "cell_type": "markdown",
      "metadata": {
        "id": "P6zTLyp9AjQH"
      },
      "source": [
        "**Observations:Training dataset accuracy drastically improved from 60% to 94%. However, model did not do as well with test dataset. Accuracy plateaued around 85% after 6th epoch. We can see the same trend with loss on training dataset vs test dataset.**"
      ]
    },
    {
      "cell_type": "markdown",
      "metadata": {
        "id": "Ukvtg2eMAjQH"
      },
      "source": [
        "Let's build another model and see if we can get a better model with generalized performance.\n",
        "\n",
        "First, we need to clear the previous model's history from the Keras backend. Also, let's fix the seed again after clearing the backend."
      ]
    },
    {
      "cell_type": "code",
      "execution_count": 44,
      "metadata": {
        "id": "HbKi93HTolGW"
      },
      "outputs": [],
      "source": [
        "import tensorflow.keras as keras\n",
        "\n",
        "# Clear previous Keras session\n",
        "keras.backend.clear_session()"
      ]
    },
    {
      "cell_type": "code",
      "source": [
        "#setting a set for reproducibility\n",
        "np.random.seed(42)\n",
        "\n",
        "#generating a random number as an example\n",
        "print(np.random.random())"
      ],
      "metadata": {
        "colab": {
          "base_uri": "https://localhost:8080/"
        },
        "id": "2QezJE86CRhq",
        "outputId": "e4835508-9215-4a52-a5e9-90aba95afed6"
      },
      "execution_count": 45,
      "outputs": [
        {
          "output_type": "stream",
          "name": "stdout",
          "text": [
            "0.3745401188473625\n"
          ]
        }
      ]
    },
    {
      "cell_type": "markdown",
      "metadata": {
        "id": "Ep19Jd8HAjQH"
      },
      "source": [
        "### **Second Model Architecture**\n",
        "\n",
        "- Write a function that returns a sequential model with the following architecture:\n",
        " - First Convolutional layer with **16 filters and the kernel size of 3x3**. Use the **'same' padding** and provide the **input shape = (32, 32, 1)**\n",
        " - Add a **LeakyRelu layer** with the **slope equal to 0.1**\n",
        " - Second Convolutional layer with **32 filters and the kernel size of 3x3 with 'same' padding**\n",
        " - Add **LeakyRelu** with the **slope equal to 0.1**\n",
        " - Add a **max-pooling layer** with a **pool size of 2x2**\n",
        " - Add a **BatchNormalization layer**\n",
        " - Third Convolutional layer with **32 filters and the kernel size of 3x3 with 'same' padding**\n",
        " - Add a **LeakyRelu layer with the slope equal to 0.1**\n",
        " - Fourth Convolutional layer **64 filters and the kernel size of 3x3 with 'same' padding**\n",
        " - Add a **LeakyRelu layer with the slope equal to 0.1**\n",
        " - Add a **max-pooling layer** with a **pool size of 2x2**\n",
        " - Add a **BatchNormalization layer**\n",
        " - **Flatten** the output from the previous layer\n",
        " - Add a **dense layer with 32 nodes**\n",
        " - Add a **LeakyRelu layer with the slope equal to 0.1**\n",
        " - Add a **dropout layer with the rate equal to 0.5**\n",
        " - Add the final **output layer with nodes equal to the number of classes, i.e., 10** and **'softmax' as the activation function**\n",
        " - Compile the model with the **categorical_crossentropy loss, adam optimizers (learning_rate = 0.001), and metric equal to 'accuracy'**. Do not fit the model here, just return the compiled model.\n",
        "- Call the function cnn_model_2 and store the model in a new variable.\n",
        "- Print the summary of the model.\n",
        "- Fit the model on the train data with a **validation split of 0.2, batch size = 128, verbose = 1, and epochs = 30**. Store the model building history to use later for visualization."
      ]
    },
    {
      "cell_type": "code",
      "source": [
        "from tensorflow.keras.models import Sequential\n",
        "from tensorflow.keras.layers import Conv2D, LeakyReLU, MaxPooling2D, Flatten, Dense\n",
        "from tensorflow.keras.optimizers import Adam\n",
        "\n",
        "def cnn_model_2(input_shape=(32, 32, 1), num_classes=10):\n",
        "    model = Sequential()\n",
        "\n",
        "    # First Convolutional layer with LeakyReLU activation\n",
        "    model.add(Conv2D(filters=16, kernel_size=(3, 3), padding='same', input_shape=input_shape))\n",
        "    model.add(LeakyReLU(alpha=0.1))\n",
        "\n",
        "    # Second Convolutional layer with LeakyReLU activation\n",
        "    model.add(Conv2D(filters=32, kernel_size=(3, 3), padding='same'))\n",
        "    model.add(LeakyReLU(alpha=0.1))\n",
        "\n",
        "    # MaxPooling layer\n",
        "    model.add(MaxPooling2D(pool_size=(2, 2)))\n",
        "\n",
        "    #Batch Normalization layer\n",
        "    model.add(BatchNormalization())\n",
        "\n",
        "    # Third Convolutional layer with LeakyReLU activation\n",
        "    model.add(Conv2D(filters=32, kernel_size=(3, 3), padding='same'))\n",
        "    model.add(LeakyReLU(alpha=0.1))\n",
        "\n",
        "    # Fourth Convolutional layer with LeakyReLU activation\n",
        "    model.add(Conv2D(filters=64, kernel_size=(3, 3), padding='same'))\n",
        "    model.add(LeakyReLU(alpha=0.1))\n",
        "\n",
        "     # MaxPooling layer\n",
        "    model.add(MaxPooling2D(pool_size=(2, 2)))\n",
        "\n",
        "    #Batch Normalization layer\n",
        "    model.add(BatchNormalization())\n",
        "\n",
        "    # Flattenning the output from the previous layer\n",
        "    model.add(Flatten())\n",
        "\n",
        "    # Dense layer with LeakyReLU activation\n",
        "    model.add(Dense(units=32))\n",
        "    model.add(LeakyReLU(alpha=0.1))\n",
        "    model.add(Dropout(0.5))\n",
        "\n",
        "    # Output layer with softmax activation\n",
        "    model.add(Dense(units=num_classes, activation='softmax'))\n",
        "\n",
        "    # Compile the model\n",
        "    model.compile(optimizer=Adam(learning_rate=0.001),\n",
        "                  loss='categorical_crossentropy',\n",
        "                  metrics=['accuracy'])\n",
        "\n",
        "    return model\n",
        "\n",
        "# Creating the model and printing the summary\n",
        "model = cnn_model_2()\n",
        "model.summary()\n"
      ],
      "metadata": {
        "colab": {
          "base_uri": "https://localhost:8080/"
        },
        "id": "HWV_WdBtCeFH",
        "outputId": "f76e64da-3c6f-4543-d7b6-5fe6ebb91f83"
      },
      "execution_count": 46,
      "outputs": [
        {
          "output_type": "stream",
          "name": "stdout",
          "text": [
            "Model: \"sequential\"\n",
            "_________________________________________________________________\n",
            " Layer (type)                Output Shape              Param #   \n",
            "=================================================================\n",
            " conv2d (Conv2D)             (None, 32, 32, 16)        160       \n",
            "                                                                 \n",
            " leaky_re_lu (LeakyReLU)     (None, 32, 32, 16)        0         \n",
            "                                                                 \n",
            " conv2d_1 (Conv2D)           (None, 32, 32, 32)        4640      \n",
            "                                                                 \n",
            " leaky_re_lu_1 (LeakyReLU)   (None, 32, 32, 32)        0         \n",
            "                                                                 \n",
            " max_pooling2d (MaxPooling2  (None, 16, 16, 32)        0         \n",
            " D)                                                              \n",
            "                                                                 \n",
            " batch_normalization (Batch  (None, 16, 16, 32)        128       \n",
            " Normalization)                                                  \n",
            "                                                                 \n",
            " conv2d_2 (Conv2D)           (None, 16, 16, 32)        9248      \n",
            "                                                                 \n",
            " leaky_re_lu_2 (LeakyReLU)   (None, 16, 16, 32)        0         \n",
            "                                                                 \n",
            " conv2d_3 (Conv2D)           (None, 16, 16, 64)        18496     \n",
            "                                                                 \n",
            " leaky_re_lu_3 (LeakyReLU)   (None, 16, 16, 64)        0         \n",
            "                                                                 \n",
            " max_pooling2d_1 (MaxPoolin  (None, 8, 8, 64)          0         \n",
            " g2D)                                                            \n",
            "                                                                 \n",
            " batch_normalization_1 (Bat  (None, 8, 8, 64)          256       \n",
            " chNormalization)                                                \n",
            "                                                                 \n",
            " flatten (Flatten)           (None, 4096)              0         \n",
            "                                                                 \n",
            " dense (Dense)               (None, 32)                131104    \n",
            "                                                                 \n",
            " leaky_re_lu_4 (LeakyReLU)   (None, 32)                0         \n",
            "                                                                 \n",
            " dropout (Dropout)           (None, 32)                0         \n",
            "                                                                 \n",
            " dense_1 (Dense)             (None, 10)                330       \n",
            "                                                                 \n",
            "=================================================================\n",
            "Total params: 164362 (642.04 KB)\n",
            "Trainable params: 164170 (641.29 KB)\n",
            "Non-trainable params: 192 (768.00 Byte)\n",
            "_________________________________________________________________\n"
          ]
        }
      ]
    },
    {
      "cell_type": "markdown",
      "metadata": {
        "id": "y5IBLS1eKDNy"
      },
      "source": [
        "### **Build and train the second CNN model as per the above mentioned architecture.**"
      ]
    },
    {
      "cell_type": "code",
      "execution_count": 47,
      "metadata": {
        "id": "wk9sl2UEAjQH",
        "colab": {
          "base_uri": "https://localhost:8080/"
        },
        "outputId": "fcebe96c-44e3-4e13-ace7-367a282f7b0f"
      },
      "outputs": [
        {
          "output_type": "stream",
          "name": "stdout",
          "text": [
            "Epoch 1/20\n",
            "1050/1050 [==============================] - 227s 216ms/step - loss: 1.1948 - accuracy: 0.6096 - val_loss: 0.5332 - val_accuracy: 0.8520\n",
            "Epoch 2/20\n",
            "1050/1050 [==============================] - 222s 212ms/step - loss: 0.6423 - accuracy: 0.8053 - val_loss: 0.4547 - val_accuracy: 0.8742\n",
            "Epoch 3/20\n",
            "1050/1050 [==============================] - 212s 202ms/step - loss: 0.5426 - accuracy: 0.8363 - val_loss: 0.4709 - val_accuracy: 0.8665\n",
            "Epoch 4/20\n",
            "1050/1050 [==============================] - 218s 207ms/step - loss: 0.4810 - accuracy: 0.8567 - val_loss: 0.3826 - val_accuracy: 0.8926\n",
            "Epoch 5/20\n",
            "1050/1050 [==============================] - 205s 195ms/step - loss: 0.4414 - accuracy: 0.8680 - val_loss: 0.3577 - val_accuracy: 0.9018\n",
            "Epoch 6/20\n",
            "1050/1050 [==============================] - 208s 198ms/step - loss: 0.4110 - accuracy: 0.8765 - val_loss: 0.3740 - val_accuracy: 0.8987\n",
            "Epoch 7/20\n",
            "1050/1050 [==============================] - 209s 199ms/step - loss: 0.3823 - accuracy: 0.8850 - val_loss: 0.4893 - val_accuracy: 0.8671\n",
            "Epoch 8/20\n",
            "1050/1050 [==============================] - 219s 209ms/step - loss: 0.3516 - accuracy: 0.8913 - val_loss: 0.4320 - val_accuracy: 0.8842\n",
            "Epoch 9/20\n",
            "1050/1050 [==============================] - 208s 198ms/step - loss: 0.3336 - accuracy: 0.8974 - val_loss: 0.4574 - val_accuracy: 0.8680\n",
            "Epoch 10/20\n",
            "1050/1050 [==============================] - 233s 222ms/step - loss: 0.3163 - accuracy: 0.9003 - val_loss: 0.3466 - val_accuracy: 0.9114\n",
            "Epoch 11/20\n",
            "1050/1050 [==============================] - 229s 218ms/step - loss: 0.2999 - accuracy: 0.9071 - val_loss: 0.3535 - val_accuracy: 0.9025\n",
            "Epoch 12/20\n",
            "1050/1050 [==============================] - 207s 197ms/step - loss: 0.2783 - accuracy: 0.9125 - val_loss: 0.3573 - val_accuracy: 0.9057\n",
            "Epoch 13/20\n",
            "1050/1050 [==============================] - 206s 196ms/step - loss: 0.2714 - accuracy: 0.9151 - val_loss: 0.3354 - val_accuracy: 0.9115\n",
            "Epoch 14/20\n",
            "1050/1050 [==============================] - 206s 196ms/step - loss: 0.2573 - accuracy: 0.9177 - val_loss: 0.3642 - val_accuracy: 0.9156\n",
            "Epoch 15/20\n",
            "1050/1050 [==============================] - 205s 196ms/step - loss: 0.2447 - accuracy: 0.9237 - val_loss: 0.3811 - val_accuracy: 0.9095\n",
            "Epoch 16/20\n",
            "1050/1050 [==============================] - 206s 196ms/step - loss: 0.2377 - accuracy: 0.9250 - val_loss: 0.3800 - val_accuracy: 0.9076\n",
            "Epoch 17/20\n",
            "1050/1050 [==============================] - 206s 196ms/step - loss: 0.2305 - accuracy: 0.9260 - val_loss: 0.4299 - val_accuracy: 0.9023\n",
            "Epoch 18/20\n",
            "1050/1050 [==============================] - 218s 208ms/step - loss: 0.2206 - accuracy: 0.9273 - val_loss: 0.3744 - val_accuracy: 0.9062\n",
            "Epoch 19/20\n",
            "1050/1050 [==============================] - 212s 202ms/step - loss: 0.2187 - accuracy: 0.9311 - val_loss: 0.4096 - val_accuracy: 0.9150\n",
            "Epoch 20/20\n",
            "1050/1050 [==============================] - 219s 208ms/step - loss: 0.2062 - accuracy: 0.9327 - val_loss: 0.4035 - val_accuracy: 0.9136\n"
          ]
        }
      ],
      "source": [
        "#Fitting the model\n",
        "history = model.fit(X_train, y_train_one_hot, epochs=20, batch_size=32, verbose=1, validation_split=0.2)"
      ]
    },
    {
      "cell_type": "markdown",
      "metadata": {
        "id": "PyhUtMy3KDN1"
      },
      "source": [
        "### **Plot the Training and Validation accuracies and write your observations.**"
      ]
    },
    {
      "cell_type": "code",
      "execution_count": 48,
      "metadata": {
        "id": "YVQu7uWiAjQH",
        "colab": {
          "base_uri": "https://localhost:8080/",
          "height": 427
        },
        "outputId": "690fe004-f6ae-4940-8512-fa04ee103330"
      },
      "outputs": [
        {
          "output_type": "stream",
          "name": "stdout",
          "text": [
            "dict_keys(['loss', 'accuracy', 'val_loss', 'val_accuracy'])\n"
          ]
        },
        {
          "output_type": "display_data",
          "data": {
            "text/plain": [
              "<Figure size 1200x400 with 2 Axes>"
            ],
            "image/png": "[encoded data removed]"
          },
          "metadata": {}
        }
      ],
      "source": [
        "# Print the history keys to see what metrics are available\n",
        "print(history.history.keys())\n",
        "\n",
        "# Plot training & validation accuracy values\n",
        "plt.figure(figsize=(12, 4))\n",
        "\n",
        "plt.subplot(1, 2, 1)\n",
        "plt.plot(history.history['accuracy'])\n",
        "plt.plot(history.history['val_accuracy'])\n",
        "plt.title('Model accuracy')\n",
        "plt.xlabel('Epoch')\n",
        "plt.ylabel('Accuracy')\n",
        "plt.legend(['Train', 'Validation'], loc='upper left')\n",
        "\n",
        "# Plot training & validation loss values\n",
        "plt.subplot(1, 2, 2)\n",
        "plt.plot(history.history['loss'])\n",
        "plt.plot(history.history['val_loss'])\n",
        "plt.title('Model loss')\n",
        "plt.xlabel('Epoch')\n",
        "plt.ylabel('Loss')\n",
        "plt.legend(['Train', 'Validation'], loc='upper left')\n",
        "\n",
        "plt.show()"
      ]
    },
    {
      "cell_type": "markdown",
      "metadata": {
        "id": "Qrrt0Ac3AjQH"
      },
      "source": [
        "**Observations:\n",
        "Second CNN model accuracy was able to improve on training set from 60% to 93 %, which is pretty good. On validation dataset, accuracy was 85% and went up to 91%. 20 epochs was reasonable epoch count to stop at, as accuracy was plateauing for past two epochs.Both training and validation datasets look consistent on the plot for accuracy.\n",
        "On the second model of CNN each epoch took around 3 minutes to run. That might be due to large data size and also more layers/filters within the model. That is one area that could be improved by trying out different size batches and maybe removing the layers that are not that important.\n",
        "I also noticed that with another run of the model with datasets, accuracy on both training and test dataset decreases. This could be due to overfitting or randomness as with each round different data points are chosen.**"
      ]
    },
    {
      "cell_type": "markdown",
      "metadata": {
        "id": "kja4SnOdAjQI"
      },
      "source": [
        "## **Predictions on the test data**\n",
        "\n",
        "- Make predictions on the test set using the second model.\n",
        "- Print the obtained results using the classification report and the confusion matrix.\n",
        "- Final observations on the obtained results."
      ]
    },
    {
      "cell_type": "markdown",
      "metadata": {
        "id": "eHCRwRbgKDN2"
      },
      "source": [
        "### **Make predictions on the test data using the second model.**"
      ]
    },
    {
      "cell_type": "code",
      "execution_count": 49,
      "metadata": {
        "id": "f1d-VvaLAjQI",
        "colab": {
          "base_uri": "https://localhost:8080/"
        },
        "outputId": "da0ebf1d-d590-427e-8f3e-3371fe62bb22"
      },
      "outputs": [
        {
          "output_type": "stream",
          "name": "stdout",
          "text": [
            "563/563 [==============================] - 5s 9ms/step\n"
          ]
        }
      ],
      "source": [
        "# Make predictions on the test set\n",
        "y_pred = model2.predict(X_test)\n",
        "y_pred_classes = np.argmax(y_pred, axis=1)"
      ]
    },
    {
      "cell_type": "markdown",
      "metadata": {
        "id": "DrV1tOG0AjQI"
      },
      "source": [
        "**Note:** Earlier, we noticed that each entry of the target variable is a one-hot encoded vector, but to print the classification report and confusion matrix, we must convert each entry of y_test to a single label."
      ]
    },
    {
      "cell_type": "code",
      "execution_count": 50,
      "metadata": {
        "id": "dUSHU9W0AjQI",
        "colab": {
          "base_uri": "https://localhost:8080/"
        },
        "outputId": "deec2d84-db90-49b5-a305-fdd687d273a5"
      },
      "outputs": [
        {
          "output_type": "stream",
          "name": "stdout",
          "text": [
            "Classification Report:\n",
            "              precision    recall  f1-score   support\n",
            "\n",
            "           0       0.73      0.78      0.75      1814\n",
            "           1       0.74      0.75      0.75      1828\n",
            "           2       0.83      0.70      0.76      1803\n",
            "           3       0.66      0.70      0.68      1719\n",
            "           4       0.79      0.79      0.79      1812\n",
            "           5       0.66      0.72      0.69      1768\n",
            "           6       0.76      0.73      0.74      1832\n",
            "           7       0.79      0.75      0.77      1808\n",
            "           8       0.63      0.73      0.68      1812\n",
            "           9       0.77      0.65      0.71      1804\n",
            "\n",
            "    accuracy                           0.73     18000\n",
            "   macro avg       0.74      0.73      0.73     18000\n",
            "weighted avg       0.74      0.73      0.73     18000\n",
            "\n",
            "Confusion Matrix:\n",
            "[[1422   39   16   28   36   22   88   33   78   52]\n",
            " [  51 1363   17  115   65   32   25   66   65   29]\n",
            " [  28   52 1259  119   41   51   13  120   49   71]\n",
            " [  26   59   28 1200   22  197   16   47   86   38]\n",
            " [  52   53   28   23 1436   35   64   14   74   33]\n",
            " [  48   41   13   91   32 1272   67   15  155   34]\n",
            " [  85   38   15   26   95   78 1339    8  135   13]\n",
            " [  53   71   91   93   21   46   26 1349   24   34]\n",
            " [  66   54   21   50   39   86  102   15 1329   50]\n",
            " [ 130   60   29   74   34  112   26   32  128 1179]]\n"
          ]
        }
      ],
      "source": [
        "from sklearn.metrics import classification_report, confusion_matrix\n",
        "\n",
        "# Convert y_test_one_hot to categorical labels\n",
        "y_test_classes = np.argmax(y_test_one_hot, axis=1)\n",
        "\n",
        "# Print classification report\n",
        "print('Classification Report:')\n",
        "print(classification_report(y_test_classes, y_pred_classes))\n",
        "\n",
        "# Print confusion matrix\n",
        "print('Confusion Matrix:')\n",
        "conf_matrix = confusion_matrix(y_test_classes, y_pred_classes)\n",
        "print(conf_matrix)"
      ]
    },
    {
      "cell_type": "markdown",
      "metadata": {
        "id": "aVCa-ysWKDN3"
      },
      "source": [
        "### **Write your final observations on the performance of the model on the test data.**"
      ]
    },
    {
      "cell_type": "code",
      "execution_count": null,
      "metadata": {
        "id": "sOMq2rCJAjQJ"
      },
      "outputs": [],
      "source": []
    },
    {
      "cell_type": "markdown",
      "metadata": {
        "id": "TNN9v713AjQJ"
      },
      "source": [
        "**Final Observations:**\n",
        "\n",
        "***Performance Metrics***: The CNN model achieved an accuracy of 73%, with a  F1-score of 0.73. Precision and recall were different across different classes, with some classes performing better than others.\n",
        "\n",
        "***Strengths***: The last CNN model demonstrated good precision and recall for digits 0, 1, and 4, with precision values above 0.75 and balanced recall, indicating effective identification of these digits.\n",
        "\n",
        "***Areas for Improvement***: Classes such as 2, 5, and 8 show lower precision and recall, suggesting challenges in accurate identification. These classes may benefit from further model tuning or data augmentation to improve performance.\n",
        "\n",
        "Overall, while the model performs well in distinguishing certain digits, improvements in precision and recall for specific classes could enhance overall accuracy.**"
      ]
    }
  ],
  "metadata": {
    "accelerator": "GPU",
    "colab": {
      "provenance": [],
      "gpuType": "T4",
      "include_colab_link": true
    },
    "kernelspec": {
      "display_name": "Python 3",
      "name": "python3"
    },
    "language_info": {
      "codemirror_mode": {
        "name": "ipython",
        "version": 3
      },
      "file_extension": ".py",
      "mimetype": "text/x-python",
      "name": "python",
      "nbconvert_exporter": "python",
      "pygments_lexer": "ipython3",
      "version": "3.9.7"
    }
  },
  "nbformat": 4,
  "nbformat_minor": 0
}